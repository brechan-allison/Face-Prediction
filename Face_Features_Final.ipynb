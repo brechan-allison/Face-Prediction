{
  "cells": [
    {
      "cell_type": "code",
      "execution_count": 1,
      "id": "e522b445",
      "metadata": {
        "id": "e522b445"
      },
      "outputs": [],
      "source": [
        "import numpy as np\n",
        "import pandas as pd\n",
        "import seaborn as sns\n",
        "import matplotlib.pyplot as plt"
      ]
    },
    {
      "cell_type": "code",
      "execution_count": 2,
      "id": "fd1d6182",
      "metadata": {
        "colab": {
          "base_uri": "https://localhost:8080/"
        },
        "id": "fd1d6182",
        "outputId": "98cae034-0754-4efb-a65f-9e8119df65cb"
      },
      "outputs": [
        {
          "output_type": "stream",
          "name": "stdout",
          "text": [
            "Mounted at /content/gdrive\n"
          ]
        }
      ],
      "source": [
        "from google.colab import drive\n",
        "drive.mount('/content/gdrive')"
      ]
    },
    {
      "cell_type": "code",
      "source": [
        "example_file = \"gdrive/My Drive/Face Markup AR Database/Face Markup AR Database/points_22/m-001/m-001-01.pts\"\n",
        "\n",
        "#example_file = \"gdrive/My Drive/Face_AR/points_22/m-001/m-001-01.pts\""
      ],
      "metadata": {
        "id": "9N7dYJlTe7do"
      },
      "id": "9N7dYJlTe7do",
      "execution_count": 3,
      "outputs": []
    },
    {
      "cell_type": "code",
      "execution_count": null,
      "id": "e549dd91",
      "metadata": {
        "id": "e549dd91"
      },
      "outputs": [],
      "source": [
        "#example_file = \"Face Markup AR Database/points_22/m-001/m-001-01.pts\""
      ]
    },
    {
      "cell_type": "code",
      "execution_count": 4,
      "id": "8741c46a",
      "metadata": {
        "id": "8741c46a"
      },
      "outputs": [],
      "source": [
        "coords = np.loadtxt(example_file, skiprows=3, delimiter=\" \", max_rows=22)"
      ]
    },
    {
      "cell_type": "code",
      "source": [
        "coords"
      ],
      "metadata": {
        "colab": {
          "base_uri": "https://localhost:8080/"
        },
        "id": "XmTJF7ykczg1",
        "outputId": "6c7cc9be-c211-4679-ebc1-d612f4536c3b"
      },
      "id": "XmTJF7ykczg1",
      "execution_count": 5,
      "outputs": [
        {
          "output_type": "execute_result",
          "data": {
            "text/plain": [
              "array([[328.444, 275.496],\n",
              "       [434.921, 275.029],\n",
              "       [331.713, 401.121],\n",
              "       [427.449, 400.187],\n",
              "       [271.936, 270.826],\n",
              "       [356.464, 254.014],\n",
              "       [388.221, 255.882],\n",
              "       [494.698, 268.491],\n",
              "       [263.997, 274.095],\n",
              "       [301.825, 277.831],\n",
              "       [349.459, 277.364],\n",
              "       [411.104, 278.298],\n",
              "       [459.673, 277.831],\n",
              "       [515.246, 276.897],\n",
              "       [368.606, 340.41 ],\n",
              "       [355.53 , 351.151],\n",
              "       [391.957, 350.217],\n",
              "       [374.253, 395.527],\n",
              "       [374.253, 416.925],\n",
              "       [373.276, 483.314],\n",
              "       [280.342, 404.39 ],\n",
              "       [499.835, 402.522]])"
            ]
          },
          "metadata": {},
          "execution_count": 5
        }
      ]
    },
    {
      "cell_type": "code",
      "execution_count": 6,
      "id": "a4486bad",
      "metadata": {
        "id": "a4486bad"
      },
      "outputs": [],
      "source": [
        "def distance(p1, p2):\n",
        "    return np.sqrt((p1[0] - p2[0]) ** 2 + (p1[1] - p2[1]) ** 2)"
      ]
    },
    {
      "cell_type": "code",
      "execution_count": 13,
      "id": "e13d1dd2",
      "metadata": {
        "id": "e13d1dd2"
      },
      "outputs": [],
      "source": [
        "def eye_length_ratio(coords):\n",
        "    d_left = distance(coords[9], coords[10])\n",
        "    d_right = distance(coords[11], coords[12])\n",
        "    d_ref = distance(coords[8], coords[13])\n",
        "    return np.max([d_left / d_ref, d_right / d_ref])"
      ]
    },
    {
      "cell_type": "code",
      "source": [
        "def eye_distance_ratio(coords):\n",
        "    d_center = distance(coords[0], coords[1])\n",
        "    d_ref = distance(coords[8], coords[13])\n",
        "    return d_center / d_ref"
      ],
      "metadata": {
        "id": "SW-1jw2ndomw"
      },
      "id": "SW-1jw2ndomw",
      "execution_count": 12,
      "outputs": []
    },
    {
      "cell_type": "code",
      "execution_count": 14,
      "id": "c6e28406",
      "metadata": {
        "colab": {
          "base_uri": "https://localhost:8080/"
        },
        "id": "c6e28406",
        "outputId": "b405638c-9547-43fc-e0b2-fd8e92dce8b0"
      },
      "outputs": [
        {
          "output_type": "execute_result",
          "data": {
            "text/plain": [
              "0.19330713710291383"
            ]
          },
          "metadata": {},
          "execution_count": 14
        }
      ],
      "source": [
        "eye_length_ratio(coords)"
      ]
    },
    {
      "cell_type": "code",
      "execution_count": null,
      "id": "06d930ea",
      "metadata": {
        "id": "06d930ea"
      },
      "outputs": [],
      "source": [
        "# 76 Male faces\n",
        "male_dict = {}\n",
        "expressions = {\"neutral\": \"01\", \"smiling\": \"02\", \"anger\": \"03\", \"left_light\": \"05\"}\n",
        "\n",
        "for expression in expressions.keys():\n",
        "    male_dict[f\"{expression}_eye_length_ratio\"] = []\n",
        "    male_dict[f\"{expression}_eye_distance_ratio\"] = []\n",
        "    # add other features here\n",
        "    # male_dict[f\"{expression}_{other_feaure}] = []\n",
        "for i in range(1, 77):\n",
        "    # basepath = \"gdrive/My Drive/Face Markup AR Database/Face Markup AR Database/points_22/\"\n",
        "    basepath = \"gdrive/My Drive/Face_AR/points_22/\"\n",
        "    for expression, expression_num in expressions.items():\n",
        "        filenum = str(i).rjust(3, \"0\")\n",
        "        filepath = basepath + f\"m-{filenum}/m-{filenum}-{expression_num}.pts\"\n",
        "        try:\n",
        "            coords = np.loadtxt(filepath, skiprows=3, delimiter=\" \", max_rows=22)\n",
        "            male_dict[f\"{expression}_eye_length_ratio\"].append(eye_length_ratio(coords))\n",
        "            # Populate other_feature lists here\n",
        "            male_dict[f\"{expression}_eye_distance_ratio\"].append(eye_distance_ratio(coords))\n",
        "        except:\n",
        "            print(\"File not found!\")\n",
        "            print(filepath)\n",
        "            male_dict[f\"{expression}_eye_length_ratio\"].append(np.nan)\n",
        "            male_dict[f\"{expression}_eye_distance_ratio\"].append(np.nan)\n",
        "            print()\n",
        "\n",
        "        "
      ]
    },
    {
      "cell_type": "code",
      "source": [
        "def nose_distance_ratio(coords):\n",
        "    d_center = distance(coords[15], coords[16])\n",
        "    d_ref = distance(coords[20], coords[21])\n",
        "    return d_center / d_ref\n",
        "\n",
        "def lip_size_ratio(coords):\n",
        "    d_center = distance(coords[2], coords[3])\n",
        "    d_ref = distance(coords[17], coords[18])\n",
        "    return d_center / d_ref\n",
        "\n",
        "\n",
        "def lip_length_ratio(coords):\n",
        "    d_center = distance(coords[2], coords[3])\n",
        "    d_ref = distance(coords[20], coords[21])\n",
        "    return d_center / d_ref\n",
        "\n",
        "\n",
        "def eye_brown_length_ratio(coords):\n",
        "    d_center = distance(coords[4], coords[5])\n",
        "    d_ref = distance(coords[8], coords[13])\n",
        "    return d_center / d_ref\n",
        "\n",
        "\n",
        "def aggresive_ratio(coords):\n",
        "    d_center = distance(coords[10], coords[19])\n",
        "    d_ref = distance(coords[20], coords[21])\n",
        "    return d_center / d_ref"
      ],
      "metadata": {
        "id": "-2Ka8uE8gRR4"
      },
      "id": "-2Ka8uE8gRR4",
      "execution_count": 16,
      "outputs": []
    },
    {
      "cell_type": "code",
      "source": [
        "# 76 Male faces\n",
        "male_dict = {}\n",
        "expressions = {\"neutral\": \"01\", \"smiling\": \"02\", \"anger\": \"03\", \"left_light\": \"05\"}\n",
        "\n",
        "for expression in expressions.keys():\n",
        "    male_dict[f\"eye_length_ratio\"] = []\n",
        "    male_dict[f\"eye_distance_ratio\"] = []\n",
        "    male_dict[f\"nose_distance_ratio\"] = []\n",
        "    male_dict[f\"lip_size_ratio\"] = []\n",
        "    male_dict[f\"lip_length_ratio\"] = []\n",
        "    male_dict[f\"eye_brown_length_ratio\"] = []\n",
        "    male_dict[f\"aggresive_ratio\"] = []\n",
        "    male_dict[f\"label\"] = []\n",
        "    male_dict[f\"gender\"] = []\n",
        "    male_dict[f\"expression\"] = []\n",
        "\n",
        "    # male_dict[f\"{expression}_{other_feaure}] = []\n",
        "person_id=0\n",
        "for i in range(1, 77):\n",
        "    basepath = \"gdrive/My Drive/Face Markup AR Database/Face Markup AR Database/points_22/\"\n",
        "    #basepath = \"gdrive/My Drive/Face_AR/points_22/\"\n",
        "    for expression, expression_num in expressions.items():\n",
        "        filenum = str(i).rjust(3, \"0\")\n",
        "        filepath = basepath + f\"m-{filenum}/m-{filenum}-{expression_num}.pts\"\n",
        "        try:\n",
        "            coords = np.loadtxt(filepath, skiprows=3, delimiter=\" \", max_rows=22)\n",
        "            male_dict[f\"eye_length_ratio\"].append(eye_length_ratio(coords))\n",
        "            male_dict[f\"eye_distance_ratio\"].append(eye_distance_ratio(coords))\n",
        "            male_dict[f\"nose_distance_ratio\"].append(nose_distance_ratio(coords))\n",
        "            male_dict[f\"lip_size_ratio\"].append(lip_size_ratio(coords))\n",
        "            male_dict[f\"lip_length_ratio\"].append(lip_length_ratio(coords))\n",
        "            male_dict[f\"eye_brown_length_ratio\"].append(eye_brown_length_ratio(coords))\n",
        "            male_dict[f\"aggresive_ratio\"].append(eye_brown_length_ratio(coords))\n",
        "\n",
        "        except:\n",
        "            print(\"File not found!\")\n",
        "            print(filepath)\n",
        "            male_dict[f\"eye_length_ratio\"].append(np.nan)\n",
        "            male_dict[f\"eye_distance_ratio\"].append(np.nan)\n",
        "            male_dict[f\"nose_distance_ratio\"].append(np.nan)\n",
        "            male_dict[f\"lip_size_ratio\"].append(np.nan)\n",
        "            male_dict[f\"lip_length_ratio\"].append(np.nan)\n",
        "            male_dict[f\"eye_brown_length_ratio\"].append(np.nan)\n",
        "            male_dict[f\"aggresive_ratio\"].append(np.nan)\n",
        "            print()\n",
        "\n",
        "        male_dict[f\"label\"].append(person_id)\n",
        "        male_dict[f\"gender\"].append('male')\n",
        "        male_dict[f\"expression\"].append(expression)\n",
        "    person_id+=1\n",
        "\n",
        "\n",
        "for i in range(1, 61):\n",
        "    basepath = \"gdrive/My Drive/Face Markup AR Database/Face Markup AR Database/points_22/\"\n",
        "    #basepath = \"gdrive/My Drive/Face_AR/points_22/\"\n",
        "    for expression, expression_num in expressions.items():\n",
        "        filenum = str(i).rjust(3, \"0\")\n",
        "        filepath = basepath + f\"w-{filenum}/w-{filenum}-{expression_num}.pts\"\n",
        "        try:\n",
        "            coords = np.loadtxt(filepath, skiprows=3, delimiter=\" \", max_rows=22)\n",
        "            male_dict[f\"eye_length_ratio\"].append(eye_length_ratio(coords))\n",
        "            male_dict[f\"eye_distance_ratio\"].append(eye_distance_ratio(coords))\n",
        "            male_dict[f\"nose_distance_ratio\"].append(nose_distance_ratio(coords))\n",
        "            male_dict[f\"lip_size_ratio\"].append(lip_size_ratio(coords))\n",
        "            male_dict[f\"lip_length_ratio\"].append(lip_length_ratio(coords))\n",
        "            male_dict[f\"eye_brown_length_ratio\"].append(eye_brown_length_ratio(coords))\n",
        "            male_dict[f\"aggresive_ratio\"].append(eye_brown_length_ratio(coords))\n",
        "\n",
        "        except:\n",
        "            print(\"File not found!\")\n",
        "            print(filepath)\n",
        "            male_dict[f\"eye_length_ratio\"].append(np.nan)\n",
        "            male_dict[f\"eye_distance_ratio\"].append(np.nan)\n",
        "            male_dict[f\"nose_distance_ratio\"].append(np.nan)\n",
        "            male_dict[f\"lip_size_ratio\"].append(np.nan)\n",
        "            male_dict[f\"lip_length_ratio\"].append(np.nan)\n",
        "            male_dict[f\"eye_brown_length_ratio\"].append(np.nan)\n",
        "            male_dict[f\"aggresive_ratio\"].append(np.nan)\n",
        "            print()\n",
        "\n",
        "        male_dict[f\"label\"].append(person_id)\n",
        "        male_dict[f\"gender\"].append('female')\n",
        "        male_dict[f\"expression\"].append(expression)\n",
        "\n",
        "    person_id+=1"
      ],
      "metadata": {
        "id": "IjcUBBKhf1ra"
      },
      "id": "IjcUBBKhf1ra",
      "execution_count": null,
      "outputs": []
    },
    {
      "cell_type": "code",
      "execution_count": 18,
      "id": "3c750488",
      "metadata": {
        "id": "3c750488",
        "colab": {
          "base_uri": "https://localhost:8080/",
          "height": 424
        },
        "outputId": "f6547be9-4161-4289-9251-3edeb657d187"
      },
      "outputs": [
        {
          "output_type": "execute_result",
          "data": {
            "text/plain": [
              "     eye_length_ratio  eye_distance_ratio  nose_distance_ratio  \\\n",
              "0            0.193307            0.423768             0.166008   \n",
              "1            0.211407            0.428316             0.147227   \n",
              "2            0.224320            0.434374             0.155068   \n",
              "3            0.183316            0.445299             0.162857   \n",
              "4            0.208663            0.480300             0.135395   \n",
              "..                ...                 ...                  ...   \n",
              "539          0.188762            0.510080             0.157231   \n",
              "540               NaN                 NaN                  NaN   \n",
              "541               NaN                 NaN                  NaN   \n",
              "542          0.225156            0.446421             0.179555   \n",
              "543          0.191427            0.458234             0.175613   \n",
              "\n",
              "     lip_size_ratio  lip_length_ratio  eye_brown_length_ratio  \\\n",
              "0          4.474276          0.436174                0.343000   \n",
              "1          3.392057          0.469056                0.384807   \n",
              "2          3.887081          0.456299                0.365402   \n",
              "3          3.382285          0.398878                0.389863   \n",
              "4          3.287606          0.412910                0.360354   \n",
              "..              ...               ...                     ...   \n",
              "539        3.058341          0.390938                0.406511   \n",
              "540             NaN               NaN                     NaN   \n",
              "541             NaN               NaN                     NaN   \n",
              "542        3.716731          0.491543                0.326078   \n",
              "543        3.336926          0.468802                0.338131   \n",
              "\n",
              "     aggresive_ratio  label  gender  expression  \n",
              "0           0.343000      0    male     neutral  \n",
              "1           0.384807      0    male     smiling  \n",
              "2           0.365402      0    male       anger  \n",
              "3           0.389863      0    male  left_light  \n",
              "4           0.360354      1    male     neutral  \n",
              "..               ...    ...     ...         ...  \n",
              "539         0.406511    134  female  left_light  \n",
              "540              NaN    135  female     neutral  \n",
              "541              NaN    135  female     smiling  \n",
              "542         0.326078    135  female       anger  \n",
              "543         0.338131    135  female  left_light  \n",
              "\n",
              "[544 rows x 10 columns]"
            ],
            "text/html": [
              "\n",
              "  <div id=\"df-b7763452-8f62-487e-aec5-28985804f551\">\n",
              "    <div class=\"colab-df-container\">\n",
              "      <div>\n",
              "<style scoped>\n",
              "    .dataframe tbody tr th:only-of-type {\n",
              "        vertical-align: middle;\n",
              "    }\n",
              "\n",
              "    .dataframe tbody tr th {\n",
              "        vertical-align: top;\n",
              "    }\n",
              "\n",
              "    .dataframe thead th {\n",
              "        text-align: right;\n",
              "    }\n",
              "</style>\n",
              "<table border=\"1\" class=\"dataframe\">\n",
              "  <thead>\n",
              "    <tr style=\"text-align: right;\">\n",
              "      <th></th>\n",
              "      <th>eye_length_ratio</th>\n",
              "      <th>eye_distance_ratio</th>\n",
              "      <th>nose_distance_ratio</th>\n",
              "      <th>lip_size_ratio</th>\n",
              "      <th>lip_length_ratio</th>\n",
              "      <th>eye_brown_length_ratio</th>\n",
              "      <th>aggresive_ratio</th>\n",
              "      <th>label</th>\n",
              "      <th>gender</th>\n",
              "      <th>expression</th>\n",
              "    </tr>\n",
              "  </thead>\n",
              "  <tbody>\n",
              "    <tr>\n",
              "      <th>0</th>\n",
              "      <td>0.193307</td>\n",
              "      <td>0.423768</td>\n",
              "      <td>0.166008</td>\n",
              "      <td>4.474276</td>\n",
              "      <td>0.436174</td>\n",
              "      <td>0.343000</td>\n",
              "      <td>0.343000</td>\n",
              "      <td>0</td>\n",
              "      <td>male</td>\n",
              "      <td>neutral</td>\n",
              "    </tr>\n",
              "    <tr>\n",
              "      <th>1</th>\n",
              "      <td>0.211407</td>\n",
              "      <td>0.428316</td>\n",
              "      <td>0.147227</td>\n",
              "      <td>3.392057</td>\n",
              "      <td>0.469056</td>\n",
              "      <td>0.384807</td>\n",
              "      <td>0.384807</td>\n",
              "      <td>0</td>\n",
              "      <td>male</td>\n",
              "      <td>smiling</td>\n",
              "    </tr>\n",
              "    <tr>\n",
              "      <th>2</th>\n",
              "      <td>0.224320</td>\n",
              "      <td>0.434374</td>\n",
              "      <td>0.155068</td>\n",
              "      <td>3.887081</td>\n",
              "      <td>0.456299</td>\n",
              "      <td>0.365402</td>\n",
              "      <td>0.365402</td>\n",
              "      <td>0</td>\n",
              "      <td>male</td>\n",
              "      <td>anger</td>\n",
              "    </tr>\n",
              "    <tr>\n",
              "      <th>3</th>\n",
              "      <td>0.183316</td>\n",
              "      <td>0.445299</td>\n",
              "      <td>0.162857</td>\n",
              "      <td>3.382285</td>\n",
              "      <td>0.398878</td>\n",
              "      <td>0.389863</td>\n",
              "      <td>0.389863</td>\n",
              "      <td>0</td>\n",
              "      <td>male</td>\n",
              "      <td>left_light</td>\n",
              "    </tr>\n",
              "    <tr>\n",
              "      <th>4</th>\n",
              "      <td>0.208663</td>\n",
              "      <td>0.480300</td>\n",
              "      <td>0.135395</td>\n",
              "      <td>3.287606</td>\n",
              "      <td>0.412910</td>\n",
              "      <td>0.360354</td>\n",
              "      <td>0.360354</td>\n",
              "      <td>1</td>\n",
              "      <td>male</td>\n",
              "      <td>neutral</td>\n",
              "    </tr>\n",
              "    <tr>\n",
              "      <th>...</th>\n",
              "      <td>...</td>\n",
              "      <td>...</td>\n",
              "      <td>...</td>\n",
              "      <td>...</td>\n",
              "      <td>...</td>\n",
              "      <td>...</td>\n",
              "      <td>...</td>\n",
              "      <td>...</td>\n",
              "      <td>...</td>\n",
              "      <td>...</td>\n",
              "    </tr>\n",
              "    <tr>\n",
              "      <th>539</th>\n",
              "      <td>0.188762</td>\n",
              "      <td>0.510080</td>\n",
              "      <td>0.157231</td>\n",
              "      <td>3.058341</td>\n",
              "      <td>0.390938</td>\n",
              "      <td>0.406511</td>\n",
              "      <td>0.406511</td>\n",
              "      <td>134</td>\n",
              "      <td>female</td>\n",
              "      <td>left_light</td>\n",
              "    </tr>\n",
              "    <tr>\n",
              "      <th>540</th>\n",
              "      <td>NaN</td>\n",
              "      <td>NaN</td>\n",
              "      <td>NaN</td>\n",
              "      <td>NaN</td>\n",
              "      <td>NaN</td>\n",
              "      <td>NaN</td>\n",
              "      <td>NaN</td>\n",
              "      <td>135</td>\n",
              "      <td>female</td>\n",
              "      <td>neutral</td>\n",
              "    </tr>\n",
              "    <tr>\n",
              "      <th>541</th>\n",
              "      <td>NaN</td>\n",
              "      <td>NaN</td>\n",
              "      <td>NaN</td>\n",
              "      <td>NaN</td>\n",
              "      <td>NaN</td>\n",
              "      <td>NaN</td>\n",
              "      <td>NaN</td>\n",
              "      <td>135</td>\n",
              "      <td>female</td>\n",
              "      <td>smiling</td>\n",
              "    </tr>\n",
              "    <tr>\n",
              "      <th>542</th>\n",
              "      <td>0.225156</td>\n",
              "      <td>0.446421</td>\n",
              "      <td>0.179555</td>\n",
              "      <td>3.716731</td>\n",
              "      <td>0.491543</td>\n",
              "      <td>0.326078</td>\n",
              "      <td>0.326078</td>\n",
              "      <td>135</td>\n",
              "      <td>female</td>\n",
              "      <td>anger</td>\n",
              "    </tr>\n",
              "    <tr>\n",
              "      <th>543</th>\n",
              "      <td>0.191427</td>\n",
              "      <td>0.458234</td>\n",
              "      <td>0.175613</td>\n",
              "      <td>3.336926</td>\n",
              "      <td>0.468802</td>\n",
              "      <td>0.338131</td>\n",
              "      <td>0.338131</td>\n",
              "      <td>135</td>\n",
              "      <td>female</td>\n",
              "      <td>left_light</td>\n",
              "    </tr>\n",
              "  </tbody>\n",
              "</table>\n",
              "<p>544 rows × 10 columns</p>\n",
              "</div>\n",
              "      <button class=\"colab-df-convert\" onclick=\"convertToInteractive('df-b7763452-8f62-487e-aec5-28985804f551')\"\n",
              "              title=\"Convert this dataframe to an interactive table.\"\n",
              "              style=\"display:none;\">\n",
              "        \n",
              "  <svg xmlns=\"http://www.w3.org/2000/svg\" height=\"24px\"viewBox=\"0 0 24 24\"\n",
              "       width=\"24px\">\n",
              "    <path d=\"M0 0h24v24H0V0z\" fill=\"none\"/>\n",
              "    <path d=\"M18.56 5.44l.94 2.06.94-2.06 2.06-.94-2.06-.94-.94-2.06-.94 2.06-2.06.94zm-11 1L8.5 8.5l.94-2.06 2.06-.94-2.06-.94L8.5 2.5l-.94 2.06-2.06.94zm10 10l.94 2.06.94-2.06 2.06-.94-2.06-.94-.94-2.06-.94 2.06-2.06.94z\"/><path d=\"M17.41 7.96l-1.37-1.37c-.4-.4-.92-.59-1.43-.59-.52 0-1.04.2-1.43.59L10.3 9.45l-7.72 7.72c-.78.78-.78 2.05 0 2.83L4 21.41c.39.39.9.59 1.41.59.51 0 1.02-.2 1.41-.59l7.78-7.78 2.81-2.81c.8-.78.8-2.07 0-2.86zM5.41 20L4 18.59l7.72-7.72 1.47 1.35L5.41 20z\"/>\n",
              "  </svg>\n",
              "      </button>\n",
              "      \n",
              "  <style>\n",
              "    .colab-df-container {\n",
              "      display:flex;\n",
              "      flex-wrap:wrap;\n",
              "      gap: 12px;\n",
              "    }\n",
              "\n",
              "    .colab-df-convert {\n",
              "      background-color: #E8F0FE;\n",
              "      border: none;\n",
              "      border-radius: 50%;\n",
              "      cursor: pointer;\n",
              "      display: none;\n",
              "      fill: #1967D2;\n",
              "      height: 32px;\n",
              "      padding: 0 0 0 0;\n",
              "      width: 32px;\n",
              "    }\n",
              "\n",
              "    .colab-df-convert:hover {\n",
              "      background-color: #E2EBFA;\n",
              "      box-shadow: 0px 1px 2px rgba(60, 64, 67, 0.3), 0px 1px 3px 1px rgba(60, 64, 67, 0.15);\n",
              "      fill: #174EA6;\n",
              "    }\n",
              "\n",
              "    [theme=dark] .colab-df-convert {\n",
              "      background-color: #3B4455;\n",
              "      fill: #D2E3FC;\n",
              "    }\n",
              "\n",
              "    [theme=dark] .colab-df-convert:hover {\n",
              "      background-color: #434B5C;\n",
              "      box-shadow: 0px 1px 3px 1px rgba(0, 0, 0, 0.15);\n",
              "      filter: drop-shadow(0px 1px 2px rgba(0, 0, 0, 0.3));\n",
              "      fill: #FFFFFF;\n",
              "    }\n",
              "  </style>\n",
              "\n",
              "      <script>\n",
              "        const buttonEl =\n",
              "          document.querySelector('#df-b7763452-8f62-487e-aec5-28985804f551 button.colab-df-convert');\n",
              "        buttonEl.style.display =\n",
              "          google.colab.kernel.accessAllowed ? 'block' : 'none';\n",
              "\n",
              "        async function convertToInteractive(key) {\n",
              "          const element = document.querySelector('#df-b7763452-8f62-487e-aec5-28985804f551');\n",
              "          const dataTable =\n",
              "            await google.colab.kernel.invokeFunction('convertToInteractive',\n",
              "                                                     [key], {});\n",
              "          if (!dataTable) return;\n",
              "\n",
              "          const docLinkHtml = 'Like what you see? Visit the ' +\n",
              "            '<a target=\"_blank\" href=https://colab.research.google.com/notebooks/data_table.ipynb>data table notebook</a>'\n",
              "            + ' to learn more about interactive tables.';\n",
              "          element.innerHTML = '';\n",
              "          dataTable['output_type'] = 'display_data';\n",
              "          await google.colab.output.renderOutput(dataTable, element);\n",
              "          const docLink = document.createElement('div');\n",
              "          docLink.innerHTML = docLinkHtml;\n",
              "          element.appendChild(docLink);\n",
              "        }\n",
              "      </script>\n",
              "    </div>\n",
              "  </div>\n",
              "  "
            ]
          },
          "metadata": {},
          "execution_count": 18
        }
      ],
      "source": [
        "df = pd.DataFrame(male_dict)\n",
        "df"
      ]
    },
    {
      "cell_type": "code",
      "source": [
        "df.isnull().sum()"
      ],
      "metadata": {
        "colab": {
          "base_uri": "https://localhost:8080/"
        },
        "id": "ZxBUdKzXiNYj",
        "outputId": "cb7f6945-5fa7-46a6-eb71-04ae87dfbd22"
      },
      "id": "ZxBUdKzXiNYj",
      "execution_count": 19,
      "outputs": [
        {
          "output_type": "execute_result",
          "data": {
            "text/plain": [
              "eye_length_ratio          40\n",
              "eye_distance_ratio        40\n",
              "nose_distance_ratio       40\n",
              "lip_size_ratio            40\n",
              "lip_length_ratio          40\n",
              "eye_brown_length_ratio    40\n",
              "aggresive_ratio           40\n",
              "label                      0\n",
              "gender                     0\n",
              "expression                 0\n",
              "dtype: int64"
            ]
          },
          "metadata": {},
          "execution_count": 19
        }
      ]
    },
    {
      "cell_type": "code",
      "source": [
        "df_red=df.dropna()"
      ],
      "metadata": {
        "id": "kWm3hAFDiR4_"
      },
      "id": "kWm3hAFDiR4_",
      "execution_count": 20,
      "outputs": []
    },
    {
      "cell_type": "code",
      "source": [
        "df_red.isnull().sum()"
      ],
      "metadata": {
        "colab": {
          "base_uri": "https://localhost:8080/"
        },
        "id": "CNqQwYNtiRwH",
        "outputId": "333fc21b-32cc-4b2e-9d93-61522e873f66"
      },
      "id": "CNqQwYNtiRwH",
      "execution_count": 21,
      "outputs": [
        {
          "output_type": "execute_result",
          "data": {
            "text/plain": [
              "eye_length_ratio          0\n",
              "eye_distance_ratio        0\n",
              "nose_distance_ratio       0\n",
              "lip_size_ratio            0\n",
              "lip_length_ratio          0\n",
              "eye_brown_length_ratio    0\n",
              "aggresive_ratio           0\n",
              "label                     0\n",
              "gender                    0\n",
              "expression                0\n",
              "dtype: int64"
            ]
          },
          "metadata": {},
          "execution_count": 21
        }
      ]
    },
    {
      "cell_type": "markdown",
      "source": [
        "# Classification Person KNN\n"
      ],
      "metadata": {
        "id": "JeBfA5ktkpkY"
      },
      "id": "JeBfA5ktkpkY"
    },
    {
      "cell_type": "markdown",
      "source": [
        "### Prepare for training\n"
      ],
      "metadata": {
        "id": "qrul4LzOibTP"
      },
      "id": "qrul4LzOibTP"
    },
    {
      "cell_type": "code",
      "source": [
        "X= df_red.drop(columns=['gender',\t'expression','label'],axis=1)\n",
        "y= df_red['label']"
      ],
      "metadata": {
        "id": "HzmKoTwxiRtb"
      },
      "id": "HzmKoTwxiRtb",
      "execution_count": 22,
      "outputs": []
    },
    {
      "cell_type": "markdown",
      "source": [
        "### Train model"
      ],
      "metadata": {
        "id": "ysUOH7I8ikOt"
      },
      "id": "ysUOH7I8ikOt"
    },
    {
      "cell_type": "code",
      "source": [
        "y.nunique()"
      ],
      "metadata": {
        "colab": {
          "base_uri": "https://localhost:8080/"
        },
        "id": "wlFoMNVniaZw",
        "outputId": "c43695d7-4916-46ae-feda-35d69e0a2bc7"
      },
      "id": "wlFoMNVniaZw",
      "execution_count": 23,
      "outputs": [
        {
          "output_type": "execute_result",
          "data": {
            "text/plain": [
              "134"
            ]
          },
          "metadata": {},
          "execution_count": 23
        }
      ]
    },
    {
      "cell_type": "code",
      "source": [
        "from sklearn.model_selection import train_test_split\n",
        "from sklearn.neighbors import KNeighborsClassifier"
      ],
      "metadata": {
        "id": "rdzo0nn0ixCl"
      },
      "id": "rdzo0nn0ixCl",
      "execution_count": 24,
      "outputs": []
    },
    {
      "cell_type": "code",
      "source": [
        "X_train,X_test,y_train,y_test=train_test_split(X,y,test_size=0.2,random_state=0)"
      ],
      "metadata": {
        "id": "Bk-NGMzRioy5"
      },
      "id": "Bk-NGMzRioy5",
      "execution_count": 38,
      "outputs": []
    },
    {
      "cell_type": "code",
      "source": [
        "model=KNeighborsClassifier()\n",
        "model.fit(X_train,y_train)"
      ],
      "metadata": {
        "colab": {
          "base_uri": "https://localhost:8080/"
        },
        "id": "vvPxluimiorU",
        "outputId": "209208b6-25c1-48ba-b8c4-c225326de832"
      },
      "id": "vvPxluimiorU",
      "execution_count": 39,
      "outputs": [
        {
          "output_type": "execute_result",
          "data": {
            "text/plain": [
              "KNeighborsClassifier()"
            ]
          },
          "metadata": {},
          "execution_count": 39
        }
      ]
    },
    {
      "cell_type": "code",
      "source": [
        "y_pred=model.predict(X_test)\n",
        "y_pred"
      ],
      "metadata": {
        "colab": {
          "base_uri": "https://localhost:8080/"
        },
        "id": "q-CvFtb9iaU1",
        "outputId": "11bcc55b-858f-40ef-ca3e-484e44087147"
      },
      "id": "q-CvFtb9iaU1",
      "execution_count": 40,
      "outputs": [
        {
          "output_type": "execute_result",
          "data": {
            "text/plain": [
              "array([ 9, 12, 20,  1, 22,  0, 82, 29, 14,  5, 35,  9, 15,  8, 49,  4,  4,\n",
              "       78, 16,  6, 12,  4, 12, 10,  7, 12,  7, 82, 31, 29, 62, 23, 31, 44,\n",
              "       15,  7,  3, 51, 21, 14, 82, 33,  3,  9, 35, 55, 10, 50,  7, 10, 21,\n",
              "        0,  2,  8, 14, 15,  4, 16, 83, 21, 36, 16,  6, 12, 56, 14, 31, 26,\n",
              "        3,  9,  0, 14, 10,  3, 24, 17, 43, 49, 10, 12,  3, 29,  7,  6, 31,\n",
              "       27,  2, 16,  8,  6, 11, 12,  5, 17, 28,  6,  1, 36, 16,  6, 24])"
            ]
          },
          "metadata": {},
          "execution_count": 40
        }
      ]
    },
    {
      "cell_type": "code",
      "source": [
        "y_test.values"
      ],
      "metadata": {
        "colab": {
          "base_uri": "https://localhost:8080/"
        },
        "id": "bG27CD-ejIsF",
        "outputId": "a76b61d6-1f0f-41f4-98c8-e45374df96d0"
      },
      "id": "bG27CD-ejIsF",
      "execution_count": 41,
      "outputs": [
        {
          "output_type": "execute_result",
          "data": {
            "text/plain": [
              "array([ 23,  25, 122,  88, 101,   3,  82, 107,  41,  39, 111,  64,  65,\n",
              "        56,  44,  76, 128,  50,  40,   9,  53,  99, 118,  28,  11, 103,\n",
              "         5,  96,  25,  60, 100,  30,  32, 134,  52,  93,  80, 116,  68,\n",
              "        49,  82,  11, 104,  57,  20,   0, 117,  90, 108,  26,  94,  44,\n",
              "        56,  37,  34,   3,  85,  44,  94,  72,  20,  71, 100, 110,  77,\n",
              "        62,   2, 104, 111,  19,  37,  16,  88,  87,  45,  59, 121,  26,\n",
              "       131,  54,  77,  61,  56,  97,  83,  85, 109,  40,  79,  13,  98,\n",
              "       104,  78, 116,  46, 106,  14, 114,  15, 131,  27])"
            ]
          },
          "metadata": {},
          "execution_count": 41
        }
      ]
    },
    {
      "cell_type": "code",
      "source": [
        "from sklearn.metrics import accuracy_score, precision_score, recall_score, confusion_matrix"
      ],
      "metadata": {
        "id": "lcT2OdsGjQqZ"
      },
      "id": "lcT2OdsGjQqZ",
      "execution_count": 42,
      "outputs": []
    },
    {
      "cell_type": "code",
      "source": [
        "accuracy_score(y_test,y_pred)"
      ],
      "metadata": {
        "colab": {
          "base_uri": "https://localhost:8080/"
        },
        "id": "Q6EUNvsTjIiE",
        "outputId": "50bdbe06-b0f8-4aa9-dc6b-49ce9c10e6d5"
      },
      "id": "Q6EUNvsTjIiE",
      "execution_count": 43,
      "outputs": [
        {
          "output_type": "execute_result",
          "data": {
            "text/plain": [
              "0.019801980198019802"
            ]
          },
          "metadata": {},
          "execution_count": 43
        }
      ]
    },
    {
      "cell_type": "code",
      "source": [
        "confusion_matrix(y_test,y_pred)"
      ],
      "metadata": {
        "colab": {
          "base_uri": "https://localhost:8080/"
        },
        "id": "zFAlkL3ViaN2",
        "outputId": "4c60e85c-417d-4f44-b682-61b7369ae7b1"
      },
      "id": "zFAlkL3ViaN2",
      "execution_count": 44,
      "outputs": [
        {
          "output_type": "execute_result",
          "data": {
            "text/plain": [
              "array([[0, 0, 0, ..., 0, 0, 0],\n",
              "       [0, 0, 0, ..., 0, 0, 0],\n",
              "       [0, 0, 0, ..., 0, 0, 0],\n",
              "       ...,\n",
              "       [0, 0, 0, ..., 0, 0, 0],\n",
              "       [0, 0, 0, ..., 0, 0, 0],\n",
              "       [0, 0, 0, ..., 0, 0, 0]])"
            ]
          },
          "metadata": {},
          "execution_count": 44
        }
      ]
    },
    {
      "cell_type": "code",
      "source": [
        "sns.heatmap(confusion_matrix(y_test,y_pred))"
      ],
      "metadata": {
        "colab": {
          "base_uri": "https://localhost:8080/",
          "height": 289
        },
        "id": "NHoumis0nYFh",
        "outputId": "46b6545f-f7eb-4a8b-fe57-143993327ca3"
      },
      "id": "NHoumis0nYFh",
      "execution_count": 48,
      "outputs": [
        {
          "output_type": "execute_result",
          "data": {
            "text/plain": [
              "<matplotlib.axes._subplots.AxesSubplot at 0x7f437d338790>"
            ]
          },
          "metadata": {},
          "execution_count": 48
        },
        {
          "output_type": "display_data",
          "data": {
            "text/plain": [
              "<Figure size 432x288 with 2 Axes>"
            ],
            "image/png": "[encoded data removed]"
          },
          "metadata": {
            "needs_background": "light"
          }
        }
      ]
    },
    {
      "cell_type": "code",
      "source": [
        "recall_score(y_test,y_pred,average='macro')"
      ],
      "metadata": {
        "colab": {
          "base_uri": "https://localhost:8080/"
        },
        "id": "0Op3dpz3jebP",
        "outputId": "c0e1386d-3499-402c-dfba-7c47a9e3e4fb"
      },
      "id": "0Op3dpz3jebP",
      "execution_count": 49,
      "outputs": [
        {
          "output_type": "stream",
          "name": "stderr",
          "text": [
            "/usr/local/lib/python3.7/dist-packages/sklearn/metrics/_classification.py:1318: UndefinedMetricWarning: Recall is ill-defined and being set to 0.0 in labels with no true samples. Use `zero_division` parameter to control this behavior.\n",
            "  _warn_prf(average, modifier, msg_start, len(result))\n"
          ]
        },
        {
          "output_type": "execute_result",
          "data": {
            "text/plain": [
              "0.01020408163265306"
            ]
          },
          "metadata": {},
          "execution_count": 49
        }
      ]
    },
    {
      "cell_type": "code",
      "source": [
        "precision_score(y_test,y_pred,average='macro')"
      ],
      "metadata": {
        "colab": {
          "base_uri": "https://localhost:8080/"
        },
        "id": "lbhF0WyrjeS1",
        "outputId": "49a2040f-4ace-4179-a163-9756420b82bf"
      },
      "id": "lbhF0WyrjeS1",
      "execution_count": null,
      "outputs": [
        {
          "output_type": "stream",
          "name": "stderr",
          "text": [
            "/usr/local/lib/python3.7/dist-packages/sklearn/metrics/_classification.py:1318: UndefinedMetricWarning: Precision is ill-defined and being set to 0.0 in labels with no predicted samples. Use `zero_division` parameter to control this behavior.\n",
            "  _warn_prf(average, modifier, msg_start, len(result))\n"
          ]
        },
        {
          "output_type": "execute_result",
          "data": {
            "text/plain": [
              "0.006802721088435374"
            ]
          },
          "metadata": {},
          "execution_count": 106
        }
      ]
    },
    {
      "cell_type": "markdown",
      "source": [
        "# Classification Expression KNN\n"
      ],
      "metadata": {
        "id": "TjG6sgVWk1C_"
      },
      "id": "TjG6sgVWk1C_"
    },
    {
      "cell_type": "code",
      "source": [
        "X= df_red.drop(columns=['gender',\t'expression','label'],axis=1)\n",
        "y= df_red['expression']"
      ],
      "metadata": {
        "id": "_u44kpeckFQ3"
      },
      "id": "_u44kpeckFQ3",
      "execution_count": 77,
      "outputs": []
    },
    {
      "cell_type": "code",
      "source": [
        "X_train,X_test,y_train,y_test=train_test_split(X,y,test_size=0.2,random_state=0)"
      ],
      "metadata": {
        "id": "gZIVwlZ-kFJS"
      },
      "id": "gZIVwlZ-kFJS",
      "execution_count": 78,
      "outputs": []
    },
    {
      "cell_type": "code",
      "source": [
        "# GridSearchCV, RandomizedSearchCV"
      ],
      "metadata": {
        "id": "3n3t0UXlm0XU"
      },
      "id": "3n3t0UXlm0XU",
      "execution_count": 52,
      "outputs": []
    },
    {
      "cell_type": "code",
      "source": [
        "model=KNeighborsClassifier()\n",
        "model.fit(X_train,y_train)"
      ],
      "metadata": {
        "colab": {
          "base_uri": "https://localhost:8080/"
        },
        "id": "_gStwfqbkFBY",
        "outputId": "ff2ac79f-26ee-4283-f104-856a1ce801a2"
      },
      "id": "_gStwfqbkFBY",
      "execution_count": 79,
      "outputs": [
        {
          "output_type": "execute_result",
          "data": {
            "text/plain": [
              "KNeighborsClassifier()"
            ]
          },
          "metadata": {},
          "execution_count": 79
        }
      ]
    },
    {
      "cell_type": "code",
      "source": [
        "y_pred=model.predict(X_test)\n",
        "y_pred"
      ],
      "metadata": {
        "colab": {
          "base_uri": "https://localhost:8080/"
        },
        "id": "veRyTyxik8JT",
        "outputId": "883242e9-3ebe-40d2-a602-e34692973c28"
      },
      "id": "veRyTyxik8JT",
      "execution_count": 80,
      "outputs": [
        {
          "output_type": "execute_result",
          "data": {
            "text/plain": [
              "array(['anger', 'smiling', 'anger', 'anger', 'smiling', 'anger',\n",
              "       'smiling', 'anger', 'smiling', 'left_light', 'left_light',\n",
              "       'left_light', 'anger', 'smiling', 'left_light', 'smiling', 'anger',\n",
              "       'neutral', 'neutral', 'smiling', 'left_light', 'smiling', 'anger',\n",
              "       'left_light', 'smiling', 'anger', 'neutral', 'smiling', 'neutral',\n",
              "       'anger', 'neutral', 'neutral', 'anger', 'neutral', 'left_light',\n",
              "       'smiling', 'smiling', 'smiling', 'smiling', 'smiling', 'smiling',\n",
              "       'left_light', 'left_light', 'left_light', 'neutral', 'anger',\n",
              "       'left_light', 'smiling', 'smiling', 'anger', 'anger', 'neutral',\n",
              "       'neutral', 'left_light', 'anger', 'anger', 'anger', 'left_light',\n",
              "       'neutral', 'neutral', 'neutral', 'anger', 'left_light', 'smiling',\n",
              "       'neutral', 'smiling', 'anger', 'left_light', 'anger', 'left_light',\n",
              "       'neutral', 'left_light', 'left_light', 'anger', 'smiling',\n",
              "       'left_light', 'anger', 'smiling', 'left_light', 'neutral', 'anger',\n",
              "       'neutral', 'left_light', 'left_light', 'anger', 'smiling', 'anger',\n",
              "       'neutral', 'smiling', 'left_light', 'left_light', 'smiling',\n",
              "       'left_light', 'smiling', 'anger', 'smiling', 'anger', 'anger',\n",
              "       'neutral', 'anger', 'smiling'], dtype=object)"
            ]
          },
          "metadata": {},
          "execution_count": 80
        }
      ]
    },
    {
      "cell_type": "code",
      "source": [
        "y_test.values"
      ],
      "metadata": {
        "colab": {
          "base_uri": "https://localhost:8080/"
        },
        "id": "fLGRbRvpk8HL",
        "outputId": "54ca5117-511e-4aef-b6c4-e2b8d3376431"
      },
      "id": "fLGRbRvpk8HL",
      "execution_count": 81,
      "outputs": [
        {
          "output_type": "execute_result",
          "data": {
            "text/plain": [
              "array(['anger', 'smiling', 'anger', 'neutral', 'left_light', 'left_light',\n",
              "       'anger', 'neutral', 'smiling', 'left_light', 'left_light',\n",
              "       'left_light', 'neutral', 'smiling', 'smiling', 'anger', 'anger',\n",
              "       'neutral', 'neutral', 'smiling', 'anger', 'smiling', 'anger',\n",
              "       'neutral', 'smiling', 'anger', 'smiling', 'left_light', 'neutral',\n",
              "       'anger', 'left_light', 'anger', 'neutral', 'anger', 'left_light',\n",
              "       'anger', 'smiling', 'smiling', 'anger', 'smiling', 'left_light',\n",
              "       'anger', 'anger', 'anger', 'neutral', 'smiling', 'smiling',\n",
              "       'left_light', 'smiling', 'anger', 'anger', 'neutral', 'anger',\n",
              "       'anger', 'anger', 'neutral', 'anger', 'left_light', 'smiling',\n",
              "       'neutral', 'anger', 'neutral', 'anger', 'smiling', 'left_light',\n",
              "       'left_light', 'anger', 'left_light', 'anger', 'left_light',\n",
              "       'neutral', 'smiling', 'left_light', 'neutral', 'smiling',\n",
              "       'neutral', 'smiling', 'neutral', 'left_light', 'neutral', 'anger',\n",
              "       'neutral', 'left_light', 'anger', 'anger', 'smiling', 'neutral',\n",
              "       'left_light', 'smiling', 'anger', 'left_light', 'smiling', 'anger',\n",
              "       'left_light', 'smiling', 'smiling', 'neutral', 'neutral',\n",
              "       'neutral', 'anger', 'left_light'], dtype=object)"
            ]
          },
          "metadata": {},
          "execution_count": 81
        }
      ]
    },
    {
      "cell_type": "code",
      "source": [
        "accuracy_score(y_test,y_pred)"
      ],
      "metadata": {
        "colab": {
          "base_uri": "https://localhost:8080/"
        },
        "id": "nKFLHuwlk8FH",
        "outputId": "a65121ea-ff80-4725-8e1f-840087318bdc"
      },
      "id": "nKFLHuwlk8FH",
      "execution_count": 82,
      "outputs": [
        {
          "output_type": "execute_result",
          "data": {
            "text/plain": [
              "0.5148514851485149"
            ]
          },
          "metadata": {},
          "execution_count": 82
        }
      ]
    },
    {
      "cell_type": "code",
      "source": [
        "y_test.value_counts()"
      ],
      "metadata": {
        "colab": {
          "base_uri": "https://localhost:8080/"
        },
        "id": "HISOxvs1lS0h",
        "outputId": "6d2ff859-aac7-4893-aae4-5cf403ebfd35"
      },
      "id": "HISOxvs1lS0h",
      "execution_count": 83,
      "outputs": [
        {
          "output_type": "execute_result",
          "data": {
            "text/plain": [
              "anger         32\n",
              "smiling       24\n",
              "neutral       23\n",
              "left_light    22\n",
              "Name: expression, dtype: int64"
            ]
          },
          "metadata": {},
          "execution_count": 83
        }
      ]
    },
    {
      "cell_type": "code",
      "source": [
        "from sklearn.metrics import classification_report\n",
        "print(classification_report(y_test,y_pred))"
      ],
      "metadata": {
        "colab": {
          "base_uri": "https://localhost:8080/"
        },
        "id": "xFh8TrqDogHw",
        "outputId": "c1bdaf28-c3ff-4af4-9207-b8c330346e47"
      },
      "id": "xFh8TrqDogHw",
      "execution_count": 84,
      "outputs": [
        {
          "output_type": "stream",
          "name": "stdout",
          "text": [
            "              precision    recall  f1-score   support\n",
            "\n",
            "       anger       0.52      0.47      0.49        32\n",
            "  left_light       0.44      0.50      0.47        22\n",
            "     neutral       0.53      0.43      0.48        23\n",
            "     smiling       0.57      0.67      0.62        24\n",
            "\n",
            "    accuracy                           0.51       101\n",
            "   macro avg       0.51      0.52      0.51       101\n",
            "weighted avg       0.52      0.51      0.51       101\n",
            "\n"
          ]
        }
      ]
    },
    {
      "cell_type": "code",
      "source": [
        "confusion_matrix(y_test,y_pred)"
      ],
      "metadata": {
        "colab": {
          "base_uri": "https://localhost:8080/"
        },
        "id": "92fuqdYAk8Cj",
        "outputId": "8d6193c7-a11b-42b7-863e-ad2017b4a46d"
      },
      "id": "92fuqdYAk8Cj",
      "execution_count": 85,
      "outputs": [
        {
          "output_type": "execute_result",
          "data": {
            "text/plain": [
              "array([[15,  9,  4,  4],\n",
              "       [ 1, 11,  3,  7],\n",
              "       [10,  2, 10,  1],\n",
              "       [ 3,  3,  2, 16]])"
            ]
          },
          "metadata": {},
          "execution_count": 85
        }
      ]
    },
    {
      "cell_type": "code",
      "source": [
        "sns.heatmap(confusion_matrix(y_test,y_pred))"
      ],
      "metadata": {
        "colab": {
          "base_uri": "https://localhost:8080/",
          "height": 286
        },
        "id": "EzPX-VW0irYM",
        "outputId": "ef3ce805-05c2-46a2-a9f5-c6f05babd7f7"
      },
      "id": "EzPX-VW0irYM",
      "execution_count": 87,
      "outputs": [
        {
          "output_type": "execute_result",
          "data": {
            "text/plain": [
              "<matplotlib.axes._subplots.AxesSubplot at 0x7f437d934210>"
            ]
          },
          "metadata": {},
          "execution_count": 87
        },
        {
          "output_type": "display_data",
          "data": {
            "text/plain": [
              "<Figure size 432x288 with 2 Axes>"
            ],
            "image/png": "[encoded data removed]"
          },
          "metadata": {
            "needs_background": "light"
          }
        }
      ]
    },
    {
      "cell_type": "code",
      "source": [
        "## Only on Anger:\n",
        "# TP: 12, number of samples that are anger and the model predicted as anger\n",
        "# TN: 15+10+12 = 37 number of samples that are not anger and the model predicted as not anger\n",
        "# FP: 9+12+3 = 24  number of samples that are not anger but the model predicted as anger\n",
        "# FN  4+1+4 = 9 number of samples that are anger but the model predicted as not anger"
      ],
      "metadata": {
        "id": "8-D8GvyXk8AU"
      },
      "id": "8-D8GvyXk8AU",
      "execution_count": null,
      "outputs": []
    },
    {
      "cell_type": "markdown",
      "source": [
        "# Classification Gender KNN\n"
      ],
      "metadata": {
        "id": "INQiX2XNnZUE"
      },
      "id": "INQiX2XNnZUE"
    },
    {
      "cell_type": "code",
      "source": [
        "X= df_red.drop(columns=['gender',\t'expression','label'],axis=1)\n",
        "y= df_red['gender']"
      ],
      "metadata": {
        "id": "fhcHM8iinZUE"
      },
      "execution_count": 88,
      "outputs": [],
      "id": "fhcHM8iinZUE"
    },
    {
      "cell_type": "code",
      "source": [
        "X_train,X_test,y_train,y_test=train_test_split(X,y,test_size=0.2,random_state=0)"
      ],
      "metadata": {
        "id": "oIKM7T5onZUE"
      },
      "execution_count": 89,
      "outputs": [],
      "id": "oIKM7T5onZUE"
    },
    {
      "cell_type": "code",
      "source": [
        "# GridSearchCV, RandomizedSearchCV"
      ],
      "metadata": {
        "id": "__Cu5KgAnZUF"
      },
      "execution_count": null,
      "outputs": [],
      "id": "__Cu5KgAnZUF"
    },
    {
      "cell_type": "code",
      "source": [
        "model=KNeighborsClassifier()\n",
        "model.fit(X_train,y_train)"
      ],
      "metadata": {
        "colab": {
          "base_uri": "https://localhost:8080/"
        },
        "outputId": "b4036156-706f-4a5e-c28e-81dc827de744",
        "id": "5I_pGdX7nZUF"
      },
      "execution_count": 90,
      "outputs": [
        {
          "output_type": "execute_result",
          "data": {
            "text/plain": [
              "KNeighborsClassifier()"
            ]
          },
          "metadata": {},
          "execution_count": 90
        }
      ],
      "id": "5I_pGdX7nZUF"
    },
    {
      "cell_type": "code",
      "source": [
        "y_pred=model.predict(X_test)\n",
        "y_pred"
      ],
      "metadata": {
        "colab": {
          "base_uri": "https://localhost:8080/"
        },
        "outputId": "5bca34dd-cdad-4417-e916-c7e8ba169c3a",
        "id": "PdyLJkWBnZUF"
      },
      "execution_count": 91,
      "outputs": [
        {
          "output_type": "execute_result",
          "data": {
            "text/plain": [
              "array(['male', 'male', 'female', 'female', 'female', 'male', 'female',\n",
              "       'female', 'female', 'female', 'female', 'male', 'male', 'male',\n",
              "       'male', 'male', 'male', 'female', 'male', 'male', 'male', 'male',\n",
              "       'male', 'male', 'male', 'male', 'male', 'female', 'male', 'male',\n",
              "       'female', 'male', 'male', 'male', 'male', 'male', 'male', 'female',\n",
              "       'male', 'male', 'female', 'male', 'male', 'male', 'male', 'male',\n",
              "       'male', 'female', 'female', 'male', 'female', 'male', 'female',\n",
              "       'male', 'male', 'male', 'male', 'male', 'female', 'male', 'male',\n",
              "       'male', 'male', 'male', 'female', 'male', 'male', 'male', 'male',\n",
              "       'male', 'male', 'female', 'female', 'male', 'female', 'male',\n",
              "       'male', 'female', 'female', 'male', 'male', 'male', 'female',\n",
              "       'male', 'male', 'male', 'female', 'male', 'male', 'male', 'female',\n",
              "       'female', 'male', 'male', 'male', 'male', 'male', 'female', 'male',\n",
              "       'female', 'male'], dtype=object)"
            ]
          },
          "metadata": {},
          "execution_count": 91
        }
      ],
      "id": "PdyLJkWBnZUF"
    },
    {
      "cell_type": "code",
      "source": [
        "y_test.values"
      ],
      "metadata": {
        "colab": {
          "base_uri": "https://localhost:8080/"
        },
        "outputId": "db1197b9-1852-4a35-9c8b-685c0ab30e0e",
        "id": "ak6mKuG8nZUF"
      },
      "execution_count": 92,
      "outputs": [
        {
          "output_type": "execute_result",
          "data": {
            "text/plain": [
              "array(['male', 'male', 'female', 'female', 'female', 'male', 'female',\n",
              "       'female', 'male', 'male', 'female', 'male', 'male', 'male', 'male',\n",
              "       'female', 'female', 'male', 'male', 'male', 'male', 'female',\n",
              "       'female', 'male', 'male', 'female', 'male', 'female', 'male',\n",
              "       'male', 'female', 'male', 'male', 'female', 'male', 'female',\n",
              "       'female', 'female', 'male', 'male', 'female', 'male', 'female',\n",
              "       'male', 'male', 'male', 'female', 'female', 'female', 'male',\n",
              "       'female', 'male', 'male', 'male', 'male', 'male', 'female', 'male',\n",
              "       'female', 'male', 'male', 'male', 'female', 'female', 'female',\n",
              "       'male', 'male', 'female', 'female', 'male', 'male', 'male',\n",
              "       'female', 'female', 'male', 'male', 'female', 'male', 'female',\n",
              "       'male', 'female', 'male', 'male', 'female', 'female', 'female',\n",
              "       'female', 'male', 'female', 'male', 'female', 'female', 'female',\n",
              "       'female', 'male', 'female', 'male', 'female', 'male', 'female',\n",
              "       'male'], dtype=object)"
            ]
          },
          "metadata": {},
          "execution_count": 92
        }
      ],
      "id": "ak6mKuG8nZUF"
    },
    {
      "cell_type": "code",
      "source": [
        "accuracy_score(y_test,y_pred)"
      ],
      "metadata": {
        "colab": {
          "base_uri": "https://localhost:8080/"
        },
        "outputId": "20802e34-f3b8-4127-afaa-c65298c6759b",
        "id": "PUR0zxwSnZUG"
      },
      "execution_count": 93,
      "outputs": [
        {
          "output_type": "execute_result",
          "data": {
            "text/plain": [
              "0.6732673267326733"
            ]
          },
          "metadata": {},
          "execution_count": 93
        }
      ],
      "id": "PUR0zxwSnZUG"
    },
    {
      "cell_type": "code",
      "source": [
        "y_pred"
      ],
      "metadata": {
        "colab": {
          "base_uri": "https://localhost:8080/"
        },
        "id": "CTB85Uo0oRmr",
        "outputId": "ed2eabc9-3f4d-4379-fece-bf166e409f60"
      },
      "id": "CTB85Uo0oRmr",
      "execution_count": 94,
      "outputs": [
        {
          "output_type": "execute_result",
          "data": {
            "text/plain": [
              "array(['male', 'male', 'female', 'female', 'female', 'male', 'female',\n",
              "       'female', 'female', 'female', 'female', 'male', 'male', 'male',\n",
              "       'male', 'male', 'male', 'female', 'male', 'male', 'male', 'male',\n",
              "       'male', 'male', 'male', 'male', 'male', 'female', 'male', 'male',\n",
              "       'female', 'male', 'male', 'male', 'male', 'male', 'male', 'female',\n",
              "       'male', 'male', 'female', 'male', 'male', 'male', 'male', 'male',\n",
              "       'male', 'female', 'female', 'male', 'female', 'male', 'female',\n",
              "       'male', 'male', 'male', 'male', 'male', 'female', 'male', 'male',\n",
              "       'male', 'male', 'male', 'female', 'male', 'male', 'male', 'male',\n",
              "       'male', 'male', 'female', 'female', 'male', 'female', 'male',\n",
              "       'male', 'female', 'female', 'male', 'male', 'male', 'female',\n",
              "       'male', 'male', 'male', 'female', 'male', 'male', 'male', 'female',\n",
              "       'female', 'male', 'male', 'male', 'male', 'male', 'female', 'male',\n",
              "       'female', 'male'], dtype=object)"
            ]
          },
          "metadata": {},
          "execution_count": 94
        }
      ]
    },
    {
      "cell_type": "code",
      "source": [
        "from sklearn.metrics import classification_report\n",
        "print(classification_report(y_test,y_pred))"
      ],
      "metadata": {
        "colab": {
          "base_uri": "https://localhost:8080/"
        },
        "id": "acVVr5HEoOn9",
        "outputId": "008f4949-c631-4ca2-8a9c-90635739d299"
      },
      "id": "acVVr5HEoOn9",
      "execution_count": 95,
      "outputs": [
        {
          "output_type": "stream",
          "name": "stdout",
          "text": [
            "              precision    recall  f1-score   support\n",
            "\n",
            "      female       0.73      0.47      0.57        47\n",
            "        male       0.65      0.85      0.74        54\n",
            "\n",
            "    accuracy                           0.67       101\n",
            "   macro avg       0.69      0.66      0.65       101\n",
            "weighted avg       0.69      0.67      0.66       101\n",
            "\n"
          ]
        }
      ]
    },
    {
      "cell_type": "code",
      "source": [
        "y_test.value_counts()"
      ],
      "metadata": {
        "colab": {
          "base_uri": "https://localhost:8080/"
        },
        "outputId": "2007931f-38f5-4818-ce33-a9276c763637",
        "id": "_jtXHP0fnZUG"
      },
      "execution_count": 96,
      "outputs": [
        {
          "output_type": "execute_result",
          "data": {
            "text/plain": [
              "male      54\n",
              "female    47\n",
              "Name: gender, dtype: int64"
            ]
          },
          "metadata": {},
          "execution_count": 96
        }
      ],
      "id": "_jtXHP0fnZUG"
    },
    {
      "cell_type": "code",
      "source": [
        "confusion_matrix(y_test,y_pred)"
      ],
      "metadata": {
        "colab": {
          "base_uri": "https://localhost:8080/"
        },
        "outputId": "f16b4936-1aff-447f-e7f0-07b8f8c9d2c2",
        "id": "orUBFd69nZUG"
      },
      "execution_count": 97,
      "outputs": [
        {
          "output_type": "execute_result",
          "data": {
            "text/plain": [
              "array([[22, 25],\n",
              "       [ 8, 46]])"
            ]
          },
          "metadata": {},
          "execution_count": 97
        }
      ],
      "id": "orUBFd69nZUG"
    },
    {
      "cell_type": "code",
      "source": [
        "labels = ['True Neg','False Pos','False Neg','True Pos']\n",
        "labels = np.asarray(labels).reshape(2,2)\n",
        "sns.heatmap(confusion_matrix(y_test,y_pred), annot=labels, fmt='', cmap='Blues')\n"
      ],
      "metadata": {
        "colab": {
          "base_uri": "https://localhost:8080/",
          "height": 282
        },
        "id": "9Y7YXAD2i_nF",
        "outputId": "e4f90424-a500-466b-c89b-83b39ca32171"
      },
      "id": "9Y7YXAD2i_nF",
      "execution_count": 98,
      "outputs": [
        {
          "output_type": "execute_result",
          "data": {
            "text/plain": [
              "<matplotlib.axes._subplots.AxesSubplot at 0x7f437d241490>"
            ]
          },
          "metadata": {},
          "execution_count": 98
        },
        {
          "output_type": "display_data",
          "data": {
            "text/plain": [
              "<Figure size 432x288 with 2 Axes>"
            ],
            "image/png": "[encoded data removed]"
          },
          "metadata": {
            "needs_background": "light"
          }
        }
      ]
    },
    {
      "cell_type": "markdown",
      "source": [
        "# Naive Bayes Person Identifier"
      ],
      "metadata": {
        "id": "3P6469Dvev-O"
      },
      "id": "3P6469Dvev-O"
    },
    {
      "cell_type": "code",
      "source": [
        "X= df_red.drop(columns=['gender',\t'expression','label'],axis=1)\n",
        "y= df_red['label']"
      ],
      "metadata": {
        "id": "FTJvDDQWezp4"
      },
      "id": "FTJvDDQWezp4",
      "execution_count": 99,
      "outputs": []
    },
    {
      "cell_type": "code",
      "source": [
        "X_train,X_test,y_train,y_test=train_test_split(X,y,test_size=0.2,random_state=0)"
      ],
      "metadata": {
        "id": "iLYsRrAae3p4"
      },
      "id": "iLYsRrAae3p4",
      "execution_count": 100,
      "outputs": []
    },
    {
      "cell_type": "code",
      "source": [
        "from sklearn.naive_bayes import GaussianNB\n",
        "model=GaussianNB()\n",
        "model.fit(X_train,y_train)"
      ],
      "metadata": {
        "colab": {
          "base_uri": "https://localhost:8080/"
        },
        "id": "5xMNNQt8e73r",
        "outputId": "4b5224d4-2e6d-4be4-f4c1-dc1f3bb41882"
      },
      "id": "5xMNNQt8e73r",
      "execution_count": 101,
      "outputs": [
        {
          "output_type": "execute_result",
          "data": {
            "text/plain": [
              "GaussianNB()"
            ]
          },
          "metadata": {},
          "execution_count": 101
        }
      ]
    },
    {
      "cell_type": "code",
      "source": [
        "y_pred=model.predict(X_test)\n",
        "y_pred"
      ],
      "metadata": {
        "colab": {
          "base_uri": "https://localhost:8080/"
        },
        "id": "XWvmR-jdfGV6",
        "outputId": "abb1e0db-80e0-4633-8f4c-35546bf81312"
      },
      "id": "XWvmR-jdfGV6",
      "execution_count": 102,
      "outputs": [
        {
          "output_type": "execute_result",
          "data": {
            "text/plain": [
              "array([  1,  71, 114,  21, 105,   8,  78,  21,  83,  67, 112,   1,  35,\n",
              "        43,  83,   6,   2,  83,  69,  92,  42,  30,  21, 111,  68,  21,\n",
              "         7, 123,  66,  78, 125,  17,  73,  47, 126,  93,  29,  73,  89,\n",
              "        93,  13,  49, 105, 110,  15,  10, 117,  60, 113,  74,  21,  47,\n",
              "        70,  67,   2,   4,  63,  69, 115,  36,  14,  87, 120,  27, 119,\n",
              "       112,  29, 105,  61,  38,  86, 114,  71, 115,  74,  54,  86,  74,\n",
              "         7,  66,  61,  35,   7,  59,  29,  83,  96,  48,  68,  13,  91,\n",
              "       105,  78,  50,  43,   3,  35,  36,  42,  14,  97])"
            ]
          },
          "metadata": {},
          "execution_count": 102
        }
      ]
    },
    {
      "cell_type": "code",
      "source": [
        "y_test.values"
      ],
      "metadata": {
        "colab": {
          "base_uri": "https://localhost:8080/"
        },
        "id": "hAo5lOb1fIr-",
        "outputId": "9d6e5bcc-1a6c-4b0d-eee6-cb5ed9a123d1"
      },
      "id": "hAo5lOb1fIr-",
      "execution_count": 103,
      "outputs": [
        {
          "output_type": "execute_result",
          "data": {
            "text/plain": [
              "array([ 23,  25, 122,  88, 101,   3,  82, 107,  41,  39, 111,  64,  65,\n",
              "        56,  44,  76, 128,  50,  40,   9,  53,  99, 118,  28,  11, 103,\n",
              "         5,  96,  25,  60, 100,  30,  32, 134,  52,  93,  80, 116,  68,\n",
              "        49,  82,  11, 104,  57,  20,   0, 117,  90, 108,  26,  94,  44,\n",
              "        56,  37,  34,   3,  85,  44,  94,  72,  20,  71, 100, 110,  77,\n",
              "        62,   2, 104, 111,  19,  37,  16,  88,  87,  45,  59, 121,  26,\n",
              "       131,  54,  77,  61,  56,  97,  83,  85, 109,  40,  79,  13,  98,\n",
              "       104,  78, 116,  46, 106,  14, 114,  15, 131,  27])"
            ]
          },
          "metadata": {},
          "execution_count": 103
        }
      ]
    },
    {
      "cell_type": "code",
      "source": [
        "accuracy_score(y_test,y_pred)"
      ],
      "metadata": {
        "colab": {
          "base_uri": "https://localhost:8080/"
        },
        "id": "VtQLnp6LfJ35",
        "outputId": "f09f8be4-f7a4-43a9-f43b-488b609b3b33"
      },
      "id": "VtQLnp6LfJ35",
      "execution_count": 104,
      "outputs": [
        {
          "output_type": "execute_result",
          "data": {
            "text/plain": [
              "0.039603960396039604"
            ]
          },
          "metadata": {},
          "execution_count": 104
        }
      ]
    },
    {
      "cell_type": "code",
      "source": [
        "y_pred"
      ],
      "metadata": {
        "colab": {
          "base_uri": "https://localhost:8080/"
        },
        "id": "IfmO7A7rfK6N",
        "outputId": "6ea95bcb-789b-4b92-a0f1-e829a4d018dd"
      },
      "id": "IfmO7A7rfK6N",
      "execution_count": 105,
      "outputs": [
        {
          "output_type": "execute_result",
          "data": {
            "text/plain": [
              "array([  1,  71, 114,  21, 105,   8,  78,  21,  83,  67, 112,   1,  35,\n",
              "        43,  83,   6,   2,  83,  69,  92,  42,  30,  21, 111,  68,  21,\n",
              "         7, 123,  66,  78, 125,  17,  73,  47, 126,  93,  29,  73,  89,\n",
              "        93,  13,  49, 105, 110,  15,  10, 117,  60, 113,  74,  21,  47,\n",
              "        70,  67,   2,   4,  63,  69, 115,  36,  14,  87, 120,  27, 119,\n",
              "       112,  29, 105,  61,  38,  86, 114,  71, 115,  74,  54,  86,  74,\n",
              "         7,  66,  61,  35,   7,  59,  29,  83,  96,  48,  68,  13,  91,\n",
              "       105,  78,  50,  43,   3,  35,  36,  42,  14,  97])"
            ]
          },
          "metadata": {},
          "execution_count": 105
        }
      ]
    },
    {
      "cell_type": "code",
      "source": [
        "from sklearn.metrics import classification_report\n",
        "print(classification_report(y_test,y_pred))"
      ],
      "metadata": {
        "id": "xXctqnlBfMN1"
      },
      "id": "xXctqnlBfMN1",
      "execution_count": null,
      "outputs": []
    },
    {
      "cell_type": "code",
      "source": [
        "y_test.value_counts()"
      ],
      "metadata": {
        "colab": {
          "base_uri": "https://localhost:8080/"
        },
        "id": "MBhSqx4efNQu",
        "outputId": "e47e49c9-2849-4cd3-9d2c-c5105f9be7c4"
      },
      "id": "MBhSqx4efNQu",
      "execution_count": 107,
      "outputs": [
        {
          "output_type": "execute_result",
          "data": {
            "text/plain": [
              "104    3\n",
              "44     3\n",
              "56     3\n",
              "37     2\n",
              "20     2\n",
              "      ..\n",
              "49     1\n",
              "57     1\n",
              "0      1\n",
              "117    1\n",
              "27     1\n",
              "Name: label, Length: 79, dtype: int64"
            ]
          },
          "metadata": {},
          "execution_count": 107
        }
      ]
    },
    {
      "cell_type": "code",
      "source": [
        "confusion_matrix(y_test,y_pred)"
      ],
      "metadata": {
        "colab": {
          "base_uri": "https://localhost:8080/"
        },
        "id": "RszK-e13fONd",
        "outputId": "c91decf4-2a02-4ee9-b023-c9a5915d57f6"
      },
      "id": "RszK-e13fONd",
      "execution_count": 108,
      "outputs": [
        {
          "output_type": "execute_result",
          "data": {
            "text/plain": [
              "array([[0, 0, 0, ..., 0, 0, 0],\n",
              "       [0, 0, 0, ..., 0, 0, 0],\n",
              "       [0, 0, 0, ..., 0, 0, 0],\n",
              "       ...,\n",
              "       [0, 0, 1, ..., 0, 0, 0],\n",
              "       [0, 0, 0, ..., 0, 0, 0],\n",
              "       [0, 0, 0, ..., 0, 0, 0]])"
            ]
          },
          "metadata": {},
          "execution_count": 108
        }
      ]
    },
    {
      "cell_type": "code",
      "source": [
        "sns.heatmap(confusion_matrix(y_test,y_pred))"
      ],
      "metadata": {
        "colab": {
          "base_uri": "https://localhost:8080/",
          "height": 295
        },
        "id": "QOFBnOtYfkB_",
        "outputId": "e07c5929-7202-4800-dd6e-c0324e17d080"
      },
      "id": "QOFBnOtYfkB_",
      "execution_count": 109,
      "outputs": [
        {
          "output_type": "execute_result",
          "data": {
            "text/plain": [
              "<matplotlib.axes._subplots.AxesSubplot at 0x7f437cda4d10>"
            ]
          },
          "metadata": {},
          "execution_count": 109
        },
        {
          "output_type": "display_data",
          "data": {
            "text/plain": [
              "<Figure size 432x288 with 2 Axes>"
            ],
            "image/png": "[encoded data removed]"
          },
          "metadata": {
            "needs_background": "light"
          }
        }
      ]
    },
    {
      "cell_type": "markdown",
      "source": [
        "# Naive Bayes Expression"
      ],
      "metadata": {
        "id": "5Ypn6x1XrBjX"
      },
      "id": "5Ypn6x1XrBjX"
    },
    {
      "cell_type": "code",
      "source": [
        "X= df_red.drop(columns=['gender',\t'expression','label'],axis=1)\n",
        "y= df_red['expression']"
      ],
      "metadata": {
        "id": "-byI1gRosBU0"
      },
      "id": "-byI1gRosBU0",
      "execution_count": 111,
      "outputs": []
    },
    {
      "cell_type": "code",
      "source": [
        "X_train,X_test,y_train,y_test=train_test_split(X,y,test_size=0.2,random_state=0)"
      ],
      "metadata": {
        "id": "NPV02NsgsCkf"
      },
      "id": "NPV02NsgsCkf",
      "execution_count": 112,
      "outputs": []
    },
    {
      "cell_type": "code",
      "source": [
        "from sklearn.naive_bayes import GaussianNB\n",
        "model=GaussianNB()\n",
        "model.fit(X_train,y_train)"
      ],
      "metadata": {
        "colab": {
          "base_uri": "https://localhost:8080/"
        },
        "id": "Z4HcPfu_sDyJ",
        "outputId": "16f087f4-507d-4713-ef3b-b07d667e148b"
      },
      "id": "Z4HcPfu_sDyJ",
      "execution_count": 113,
      "outputs": [
        {
          "output_type": "execute_result",
          "data": {
            "text/plain": [
              "GaussianNB()"
            ]
          },
          "metadata": {},
          "execution_count": 113
        }
      ]
    },
    {
      "cell_type": "code",
      "source": [
        "y_pred=model.predict(X_test)\n",
        "y_pred"
      ],
      "metadata": {
        "colab": {
          "base_uri": "https://localhost:8080/"
        },
        "id": "ZnqXWSszsFKY",
        "outputId": "430fc65c-868f-4e48-9c71-25591953a2c5"
      },
      "id": "ZnqXWSszsFKY",
      "execution_count": 114,
      "outputs": [
        {
          "output_type": "execute_result",
          "data": {
            "text/plain": [
              "array(['neutral', 'smiling', 'neutral', 'neutral', 'smiling',\n",
              "       'left_light', 'anger', 'neutral', 'smiling', 'left_light',\n",
              "       'left_light', 'anger', 'neutral', 'smiling', 'left_light', 'anger',\n",
              "       'anger', 'left_light', 'neutral', 'smiling', 'anger', 'smiling',\n",
              "       'neutral', 'neutral', 'smiling', 'neutral', 'anger', 'left_light',\n",
              "       'neutral', 'anger', 'left_light', 'neutral', 'neutral', 'anger',\n",
              "       'left_light', 'anger', 'smiling', 'smiling', 'smiling', 'smiling',\n",
              "       'left_light', 'anger', 'smiling', 'left_light', 'neutral',\n",
              "       'left_light', 'left_light', 'left_light', 'smiling', 'anger',\n",
              "       'neutral', 'neutral', 'anger', 'left_light', 'anger', 'neutral',\n",
              "       'neutral', 'left_light', 'smiling', 'neutral', 'anger',\n",
              "       'left_light', 'anger', 'smiling', 'neutral', 'left_light', 'anger',\n",
              "       'left_light', 'anger', 'left_light', 'neutral', 'neutral',\n",
              "       'left_light', 'neutral', 'smiling', 'neutral', 'smiling', 'anger',\n",
              "       'left_light', 'neutral', 'anger', 'neutral', 'left_light', 'anger',\n",
              "       'anger', 'smiling', 'anger', 'left_light', 'smiling', 'left_light',\n",
              "       'left_light', 'smiling', 'anger', 'left_light', 'smiling',\n",
              "       'smiling', 'neutral', 'neutral', 'neutral', 'anger', 'neutral'],\n",
              "      dtype='<U10')"
            ]
          },
          "metadata": {},
          "execution_count": 114
        }
      ]
    },
    {
      "cell_type": "code",
      "source": [
        "y_test.values"
      ],
      "metadata": {
        "colab": {
          "base_uri": "https://localhost:8080/"
        },
        "id": "YsCdwfQcsGJz",
        "outputId": "c9fa27ca-38e7-463f-b255-6c5887a04481"
      },
      "id": "YsCdwfQcsGJz",
      "execution_count": 115,
      "outputs": [
        {
          "output_type": "execute_result",
          "data": {
            "text/plain": [
              "array(['anger', 'smiling', 'anger', 'neutral', 'left_light', 'left_light',\n",
              "       'anger', 'neutral', 'smiling', 'left_light', 'left_light',\n",
              "       'left_light', 'neutral', 'smiling', 'smiling', 'anger', 'anger',\n",
              "       'neutral', 'neutral', 'smiling', 'anger', 'smiling', 'anger',\n",
              "       'neutral', 'smiling', 'anger', 'smiling', 'left_light', 'neutral',\n",
              "       'anger', 'left_light', 'anger', 'neutral', 'anger', 'left_light',\n",
              "       'anger', 'smiling', 'smiling', 'anger', 'smiling', 'left_light',\n",
              "       'anger', 'anger', 'anger', 'neutral', 'smiling', 'smiling',\n",
              "       'left_light', 'smiling', 'anger', 'anger', 'neutral', 'anger',\n",
              "       'anger', 'anger', 'neutral', 'anger', 'left_light', 'smiling',\n",
              "       'neutral', 'anger', 'neutral', 'anger', 'smiling', 'left_light',\n",
              "       'left_light', 'anger', 'left_light', 'anger', 'left_light',\n",
              "       'neutral', 'smiling', 'left_light', 'neutral', 'smiling',\n",
              "       'neutral', 'smiling', 'neutral', 'left_light', 'neutral', 'anger',\n",
              "       'neutral', 'left_light', 'anger', 'anger', 'smiling', 'neutral',\n",
              "       'left_light', 'smiling', 'anger', 'left_light', 'smiling', 'anger',\n",
              "       'left_light', 'smiling', 'smiling', 'neutral', 'neutral',\n",
              "       'neutral', 'anger', 'left_light'], dtype=object)"
            ]
          },
          "metadata": {},
          "execution_count": 115
        }
      ]
    },
    {
      "cell_type": "code",
      "source": [
        "accuracy_score(y_test,y_pred)"
      ],
      "metadata": {
        "colab": {
          "base_uri": "https://localhost:8080/"
        },
        "id": "K-u6kADwsHKS",
        "outputId": "09802ec2-f332-4542-8d83-6ceac203d5ce"
      },
      "id": "K-u6kADwsHKS",
      "execution_count": 116,
      "outputs": [
        {
          "output_type": "execute_result",
          "data": {
            "text/plain": [
              "0.7524752475247525"
            ]
          },
          "metadata": {},
          "execution_count": 116
        }
      ]
    },
    {
      "cell_type": "code",
      "source": [
        "y_test.value_counts()"
      ],
      "metadata": {
        "colab": {
          "base_uri": "https://localhost:8080/"
        },
        "id": "xp8zr1shsH5C",
        "outputId": "fb15bd18-cdc6-4275-d8da-ab4d07f49e02"
      },
      "id": "xp8zr1shsH5C",
      "execution_count": 117,
      "outputs": [
        {
          "output_type": "execute_result",
          "data": {
            "text/plain": [
              "anger         32\n",
              "smiling       24\n",
              "neutral       23\n",
              "left_light    22\n",
              "Name: expression, dtype: int64"
            ]
          },
          "metadata": {},
          "execution_count": 117
        }
      ]
    },
    {
      "cell_type": "code",
      "source": [
        "from sklearn.metrics import classification_report\n",
        "print(classification_report(y_test,y_pred))"
      ],
      "metadata": {
        "colab": {
          "base_uri": "https://localhost:8080/"
        },
        "id": "aHeg-oBBsJij",
        "outputId": "ff246a07-093c-42f5-c865-a9f9b4b194c2"
      },
      "id": "aHeg-oBBsJij",
      "execution_count": 118,
      "outputs": [
        {
          "output_type": "stream",
          "name": "stdout",
          "text": [
            "              precision    recall  f1-score   support\n",
            "\n",
            "       anger       0.83      0.62      0.71        32\n",
            "  left_light       0.69      0.82      0.75        22\n",
            "     neutral       0.66      0.83      0.73        23\n",
            "     smiling       0.86      0.79      0.83        24\n",
            "\n",
            "    accuracy                           0.75       101\n",
            "   macro avg       0.76      0.77      0.76       101\n",
            "weighted avg       0.77      0.75      0.75       101\n",
            "\n"
          ]
        }
      ]
    },
    {
      "cell_type": "code",
      "source": [
        "confusion_matrix(y_test,y_pred)"
      ],
      "metadata": {
        "colab": {
          "base_uri": "https://localhost:8080/"
        },
        "id": "IGzGSJOusLDC",
        "outputId": "6b76602a-1542-49eb-9533-5f67e922e10d"
      },
      "id": "IGzGSJOusLDC",
      "execution_count": 119,
      "outputs": [
        {
          "output_type": "execute_result",
          "data": {
            "text/plain": [
              "array([[20,  3,  7,  2],\n",
              "       [ 1, 18,  2,  1],\n",
              "       [ 2,  2, 19,  0],\n",
              "       [ 1,  3,  1, 19]])"
            ]
          },
          "metadata": {},
          "execution_count": 119
        }
      ]
    },
    {
      "cell_type": "code",
      "source": [
        "sns.heatmap(confusion_matrix(y_test,y_pred))"
      ],
      "metadata": {
        "colab": {
          "base_uri": "https://localhost:8080/",
          "height": 286
        },
        "id": "clByMnR9sL04",
        "outputId": "977ae3da-d676-4dc0-a773-f7d0c6909532"
      },
      "id": "clByMnR9sL04",
      "execution_count": 120,
      "outputs": [
        {
          "output_type": "execute_result",
          "data": {
            "text/plain": [
              "<matplotlib.axes._subplots.AxesSubplot at 0x7f437cbc7a90>"
            ]
          },
          "metadata": {},
          "execution_count": 120
        },
        {
          "output_type": "display_data",
          "data": {
            "text/plain": [
              "<Figure size 432x288 with 2 Axes>"
            ],
            "image/png": "[encoded data removed]"
          },
          "metadata": {
            "needs_background": "light"
          }
        }
      ]
    },
    {
      "cell_type": "markdown",
      "source": [
        "# Naive Bayes Gender"
      ],
      "metadata": {
        "id": "_Izi0iuTsh37"
      },
      "id": "_Izi0iuTsh37"
    },
    {
      "cell_type": "code",
      "source": [
        "X= df_red.drop(columns=['gender',\t'expression','label'],axis=1)\n",
        "y= df_red['gender']"
      ],
      "metadata": {
        "id": "Z7BKvI9fsj-v"
      },
      "id": "Z7BKvI9fsj-v",
      "execution_count": 121,
      "outputs": []
    },
    {
      "cell_type": "code",
      "source": [
        "X_train,X_test,y_train,y_test=train_test_split(X,y,test_size=0.2,random_state=0)"
      ],
      "metadata": {
        "id": "Sp6LX8RmskzD"
      },
      "id": "Sp6LX8RmskzD",
      "execution_count": 122,
      "outputs": []
    },
    {
      "cell_type": "code",
      "source": [
        "from sklearn.naive_bayes import GaussianNB\n",
        "model=GaussianNB()\n",
        "model.fit(X_train,y_train)"
      ],
      "metadata": {
        "colab": {
          "base_uri": "https://localhost:8080/"
        },
        "id": "EMi6ony7sljF",
        "outputId": "c5d50a6d-56d9-45eb-a5b6-dae37878c893"
      },
      "id": "EMi6ony7sljF",
      "execution_count": 123,
      "outputs": [
        {
          "output_type": "execute_result",
          "data": {
            "text/plain": [
              "GaussianNB()"
            ]
          },
          "metadata": {},
          "execution_count": 123
        }
      ]
    },
    {
      "cell_type": "code",
      "source": [
        "y_pred=model.predict(X_test)\n",
        "y_pred"
      ],
      "metadata": {
        "colab": {
          "base_uri": "https://localhost:8080/"
        },
        "id": "_jG-GrQisnom",
        "outputId": "c95299bf-d58c-4883-86d7-bd8c43456e28"
      },
      "id": "_jG-GrQisnom",
      "execution_count": 124,
      "outputs": [
        {
          "output_type": "execute_result",
          "data": {
            "text/plain": [
              "array(['male', 'female', 'female', 'female', 'female', 'male', 'female',\n",
              "       'female', 'male', 'male', 'male', 'male', 'male', 'male', 'male',\n",
              "       'female', 'male', 'female', 'male', 'male', 'male', 'female',\n",
              "       'male', 'male', 'female', 'male', 'male', 'male', 'male', 'female',\n",
              "       'female', 'male', 'male', 'male', 'male', 'male', 'male', 'female',\n",
              "       'female', 'male', 'male', 'male', 'female', 'male', 'male', 'male',\n",
              "       'male', 'female', 'female', 'male', 'female', 'male', 'female',\n",
              "       'male', 'female', 'male', 'male', 'male', 'female', 'male', 'male',\n",
              "       'male', 'female', 'female', 'female', 'male', 'male', 'female',\n",
              "       'female', 'male', 'male', 'female', 'male', 'female', 'male',\n",
              "       'male', 'male', 'male', 'male', 'male', 'female', 'female', 'male',\n",
              "       'female', 'male', 'male', 'male', 'male', 'female', 'female',\n",
              "       'female', 'female', 'female', 'male', 'male', 'female', 'female',\n",
              "       'female', 'male', 'female', 'female'], dtype='<U6')"
            ]
          },
          "metadata": {},
          "execution_count": 124
        }
      ]
    },
    {
      "cell_type": "code",
      "source": [
        "y_test.values"
      ],
      "metadata": {
        "colab": {
          "base_uri": "https://localhost:8080/"
        },
        "id": "GAfk3uMwso8e",
        "outputId": "503a29b9-7b98-414e-bc1e-4434b8a74e9b"
      },
      "id": "GAfk3uMwso8e",
      "execution_count": 125,
      "outputs": [
        {
          "output_type": "execute_result",
          "data": {
            "text/plain": [
              "array(['male', 'male', 'female', 'female', 'female', 'male', 'female',\n",
              "       'female', 'male', 'male', 'female', 'male', 'male', 'male', 'male',\n",
              "       'female', 'female', 'male', 'male', 'male', 'male', 'female',\n",
              "       'female', 'male', 'male', 'female', 'male', 'female', 'male',\n",
              "       'male', 'female', 'male', 'male', 'female', 'male', 'female',\n",
              "       'female', 'female', 'male', 'male', 'female', 'male', 'female',\n",
              "       'male', 'male', 'male', 'female', 'female', 'female', 'male',\n",
              "       'female', 'male', 'male', 'male', 'male', 'male', 'female', 'male',\n",
              "       'female', 'male', 'male', 'male', 'female', 'female', 'female',\n",
              "       'male', 'male', 'female', 'female', 'male', 'male', 'male',\n",
              "       'female', 'female', 'male', 'male', 'female', 'male', 'female',\n",
              "       'male', 'female', 'male', 'male', 'female', 'female', 'female',\n",
              "       'female', 'male', 'female', 'male', 'female', 'female', 'female',\n",
              "       'female', 'male', 'female', 'male', 'female', 'male', 'female',\n",
              "       'male'], dtype=object)"
            ]
          },
          "metadata": {},
          "execution_count": 125
        }
      ]
    },
    {
      "cell_type": "code",
      "source": [
        "accuracy_score(y_test,y_pred)"
      ],
      "metadata": {
        "colab": {
          "base_uri": "https://localhost:8080/"
        },
        "id": "xvvhOM20spto",
        "outputId": "e930d0a1-2a99-4817-d486-e8d1d8cc0cd7"
      },
      "id": "xvvhOM20spto",
      "execution_count": 126,
      "outputs": [
        {
          "output_type": "execute_result",
          "data": {
            "text/plain": [
              "0.7029702970297029"
            ]
          },
          "metadata": {},
          "execution_count": 126
        }
      ]
    },
    {
      "cell_type": "code",
      "source": [
        "y_test.value_counts()"
      ],
      "metadata": {
        "colab": {
          "base_uri": "https://localhost:8080/"
        },
        "id": "hIi2kUEbsrR-",
        "outputId": "e65d5055-4380-4a44-f68e-6bb1529291eb"
      },
      "id": "hIi2kUEbsrR-",
      "execution_count": 127,
      "outputs": [
        {
          "output_type": "execute_result",
          "data": {
            "text/plain": [
              "male      54\n",
              "female    47\n",
              "Name: gender, dtype: int64"
            ]
          },
          "metadata": {},
          "execution_count": 127
        }
      ]
    },
    {
      "cell_type": "code",
      "source": [
        "from sklearn.metrics import classification_report\n",
        "print(classification_report(y_test,y_pred))"
      ],
      "metadata": {
        "colab": {
          "base_uri": "https://localhost:8080/"
        },
        "id": "Tf_iRH3Cssa3",
        "outputId": "1f59d695-8b4c-4f71-8d8c-9022f98fca08"
      },
      "id": "Tf_iRH3Cssa3",
      "execution_count": 128,
      "outputs": [
        {
          "output_type": "stream",
          "name": "stdout",
          "text": [
            "              precision    recall  f1-score   support\n",
            "\n",
            "      female       0.71      0.62      0.66        47\n",
            "        male       0.70      0.78      0.74        54\n",
            "\n",
            "    accuracy                           0.70       101\n",
            "   macro avg       0.70      0.70      0.70       101\n",
            "weighted avg       0.70      0.70      0.70       101\n",
            "\n"
          ]
        }
      ]
    },
    {
      "cell_type": "code",
      "source": [
        "confusion_matrix(y_test,y_pred)"
      ],
      "metadata": {
        "colab": {
          "base_uri": "https://localhost:8080/"
        },
        "id": "GEtI3kxKstVY",
        "outputId": "61d1111c-1b75-422a-81e3-28ca2892fc52"
      },
      "id": "GEtI3kxKstVY",
      "execution_count": 129,
      "outputs": [
        {
          "output_type": "execute_result",
          "data": {
            "text/plain": [
              "array([[29, 18],\n",
              "       [12, 42]])"
            ]
          },
          "metadata": {},
          "execution_count": 129
        }
      ]
    },
    {
      "cell_type": "code",
      "source": [
        "sns.heatmap(confusion_matrix(y_test,y_pred))"
      ],
      "metadata": {
        "colab": {
          "base_uri": "https://localhost:8080/",
          "height": 282
        },
        "id": "WNRL0CFMsuHZ",
        "outputId": "51f5f6f9-55f8-4abf-84c8-57bb2e91d21b"
      },
      "id": "WNRL0CFMsuHZ",
      "execution_count": 130,
      "outputs": [
        {
          "output_type": "execute_result",
          "data": {
            "text/plain": [
              "<matplotlib.axes._subplots.AxesSubplot at 0x7f437c99c050>"
            ]
          },
          "metadata": {},
          "execution_count": 130
        },
        {
          "output_type": "display_data",
          "data": {
            "text/plain": [
              "<Figure size 432x288 with 2 Axes>"
            ],
            "image/png": "[encoded data removed]"
          },
          "metadata": {
            "needs_background": "light"
          }
        }
      ]
    },
    {
      "cell_type": "markdown",
      "source": [
        "# Decision Tree Person Identifier\n"
      ],
      "metadata": {
        "id": "w2Ge8AFWgDJw"
      },
      "id": "w2Ge8AFWgDJw"
    },
    {
      "cell_type": "code",
      "source": [
        "X= df_red.drop(columns=['gender',\t'expression','label'],axis=1)\n",
        "y= df_red['label']"
      ],
      "metadata": {
        "id": "nRP-aIKMfw8b"
      },
      "id": "nRP-aIKMfw8b",
      "execution_count": 146,
      "outputs": []
    },
    {
      "cell_type": "code",
      "source": [
        "X_train,X_test,y_train,y_test=train_test_split(X,y,test_size=0.2,random_state=0)"
      ],
      "metadata": {
        "id": "z7ry-vasfyfo"
      },
      "id": "z7ry-vasfyfo",
      "execution_count": 147,
      "outputs": []
    },
    {
      "cell_type": "code",
      "source": [
        "from sklearn.tree import DecisionTreeClassifier\n",
        "model=DecisionTreeClassifier()\n",
        "model.fit(X_train,y_train)"
      ],
      "metadata": {
        "colab": {
          "base_uri": "https://localhost:8080/"
        },
        "id": "hXPpKmoLfzoS",
        "outputId": "1e7e59f7-fd1d-4b65-d0ac-f90344935df6"
      },
      "id": "hXPpKmoLfzoS",
      "execution_count": 148,
      "outputs": [
        {
          "output_type": "execute_result",
          "data": {
            "text/plain": [
              "DecisionTreeClassifier()"
            ]
          },
          "metadata": {},
          "execution_count": 148
        }
      ]
    },
    {
      "cell_type": "code",
      "source": [
        "y_pred=model.predict(X_test)\n",
        "y_pred"
      ],
      "metadata": {
        "colab": {
          "base_uri": "https://localhost:8080/"
        },
        "id": "0Z3v-xAnf07R",
        "outputId": "5f732e3b-4dd9-43d0-9f38-10d879fe30da"
      },
      "id": "0Z3v-xAnf07R",
      "execution_count": 149,
      "outputs": [
        {
          "output_type": "execute_result",
          "data": {
            "text/plain": [
              "array([  6, 114,   4,  99,  83,  47,  13, 115, 112,  43,  14,  25,  42,\n",
              "        29,  28, 103,  40,  83,  49,  26,  53,  57,  35,  43, 132,  83,\n",
              "        67,   8,  74,  25,  90,  29,  51,  51, 105,  33,  47,  73,  43,\n",
              "         6,  13,  40, 104,  46,  24,  42,   9,  22, 113,  38, 115,  43,\n",
              "        70,  73,  76,  31, 119,  34,  88,  53,  60,  67,  70,  86, 106,\n",
              "       112,  41, 104,  12,  26,  95, 132, 123, 115,  26,  10,  86,  38,\n",
              "       126,  10,  35, 125,  69,  64,  29,  12,  86,  52,  98,  13,  70,\n",
              "       112,  78,  83,  96,  93,  35, 125, 115,  70,  97])"
            ]
          },
          "metadata": {},
          "execution_count": 149
        }
      ]
    },
    {
      "cell_type": "code",
      "source": [
        "y_test.values"
      ],
      "metadata": {
        "colab": {
          "base_uri": "https://localhost:8080/"
        },
        "id": "aFBWg3rcf18N",
        "outputId": "d7be622f-170a-4625-a509-11a007b51e8e"
      },
      "id": "aFBWg3rcf18N",
      "execution_count": 150,
      "outputs": [
        {
          "output_type": "execute_result",
          "data": {
            "text/plain": [
              "array([ 23,  25, 122,  88, 101,   3,  82, 107,  41,  39, 111,  64,  65,\n",
              "        56,  44,  76, 128,  50,  40,   9,  53,  99, 118,  28,  11, 103,\n",
              "         5,  96,  25,  60, 100,  30,  32, 134,  52,  93,  80, 116,  68,\n",
              "        49,  82,  11, 104,  57,  20,   0, 117,  90, 108,  26,  94,  44,\n",
              "        56,  37,  34,   3,  85,  44,  94,  72,  20,  71, 100, 110,  77,\n",
              "        62,   2, 104, 111,  19,  37,  16,  88,  87,  45,  59, 121,  26,\n",
              "       131,  54,  77,  61,  56,  97,  83,  85, 109,  40,  79,  13,  98,\n",
              "       104,  78, 116,  46, 106,  14, 114,  15, 131,  27])"
            ]
          },
          "metadata": {},
          "execution_count": 150
        }
      ]
    },
    {
      "cell_type": "code",
      "source": [
        "accuracy_score(y_test,y_pred)"
      ],
      "metadata": {
        "colab": {
          "base_uri": "https://localhost:8080/"
        },
        "id": "tgSLIk_lf3Iw",
        "outputId": "f5586a96-3441-4d77-d9d3-7d2912f6378a"
      },
      "id": "tgSLIk_lf3Iw",
      "execution_count": 151,
      "outputs": [
        {
          "output_type": "execute_result",
          "data": {
            "text/plain": [
              "0.04950495049504951"
            ]
          },
          "metadata": {},
          "execution_count": 151
        }
      ]
    },
    {
      "cell_type": "code",
      "source": [
        "y_pred"
      ],
      "metadata": {
        "colab": {
          "base_uri": "https://localhost:8080/"
        },
        "id": "WCvtVSRrf4Ib",
        "outputId": "963c3f76-2863-4d9c-c6be-acf294dc9af5"
      },
      "id": "WCvtVSRrf4Ib",
      "execution_count": 152,
      "outputs": [
        {
          "output_type": "execute_result",
          "data": {
            "text/plain": [
              "array([  6, 114,   4,  99,  83,  47,  13, 115, 112,  43,  14,  25,  42,\n",
              "        29,  28, 103,  40,  83,  49,  26,  53,  57,  35,  43, 132,  83,\n",
              "        67,   8,  74,  25,  90,  29,  51,  51, 105,  33,  47,  73,  43,\n",
              "         6,  13,  40, 104,  46,  24,  42,   9,  22, 113,  38, 115,  43,\n",
              "        70,  73,  76,  31, 119,  34,  88,  53,  60,  67,  70,  86, 106,\n",
              "       112,  41, 104,  12,  26,  95, 132, 123, 115,  26,  10,  86,  38,\n",
              "       126,  10,  35, 125,  69,  64,  29,  12,  86,  52,  98,  13,  70,\n",
              "       112,  78,  83,  96,  93,  35, 125, 115,  70,  97])"
            ]
          },
          "metadata": {},
          "execution_count": 152
        }
      ]
    },
    {
      "cell_type": "code",
      "source": [
        "from sklearn.metrics import classification_report\n",
        "print(classification_report(y_test,y_pred))"
      ],
      "metadata": {
        "id": "s-mi5vpUf5tJ"
      },
      "id": "s-mi5vpUf5tJ",
      "execution_count": null,
      "outputs": []
    },
    {
      "cell_type": "code",
      "source": [
        "y_test.value_counts()"
      ],
      "metadata": {
        "colab": {
          "base_uri": "https://localhost:8080/"
        },
        "id": "Gmm6E_uGf7O3",
        "outputId": "cf75c1e3-f820-4cab-cf79-fb2c13eecf08"
      },
      "id": "Gmm6E_uGf7O3",
      "execution_count": 154,
      "outputs": [
        {
          "output_type": "execute_result",
          "data": {
            "text/plain": [
              "104    3\n",
              "44     3\n",
              "56     3\n",
              "37     2\n",
              "20     2\n",
              "      ..\n",
              "49     1\n",
              "57     1\n",
              "0      1\n",
              "117    1\n",
              "27     1\n",
              "Name: label, Length: 79, dtype: int64"
            ]
          },
          "metadata": {},
          "execution_count": 154
        }
      ]
    },
    {
      "cell_type": "code",
      "source": [
        "confusion_matrix(y_test,y_pred)"
      ],
      "metadata": {
        "colab": {
          "base_uri": "https://localhost:8080/"
        },
        "id": "zY3ZrPdVf8KZ",
        "outputId": "1a597def-22dc-4450-d111-38c00363a295"
      },
      "id": "zY3ZrPdVf8KZ",
      "execution_count": 155,
      "outputs": [
        {
          "output_type": "execute_result",
          "data": {
            "text/plain": [
              "array([[0, 0, 0, ..., 0, 0, 0],\n",
              "       [0, 0, 0, ..., 0, 0, 0],\n",
              "       [0, 0, 0, ..., 0, 0, 0],\n",
              "       ...,\n",
              "       [0, 0, 0, ..., 0, 0, 0],\n",
              "       [0, 0, 0, ..., 0, 0, 0],\n",
              "       [0, 0, 0, ..., 0, 0, 0]])"
            ]
          },
          "metadata": {},
          "execution_count": 155
        }
      ]
    },
    {
      "cell_type": "code",
      "source": [
        "sns.heatmap(confusion_matrix(y_test,y_pred))"
      ],
      "metadata": {
        "colab": {
          "base_uri": "https://localhost:8080/",
          "height": 295
        },
        "id": "jCmXtAVif8gZ",
        "outputId": "95b2e894-4e0f-4833-80bd-dd303cd994f7"
      },
      "id": "jCmXtAVif8gZ",
      "execution_count": 156,
      "outputs": [
        {
          "output_type": "execute_result",
          "data": {
            "text/plain": [
              "<matplotlib.axes._subplots.AxesSubplot at 0x7f437c78e910>"
            ]
          },
          "metadata": {},
          "execution_count": 156
        },
        {
          "output_type": "display_data",
          "data": {
            "text/plain": [
              "<Figure size 432x288 with 2 Axes>"
            ],
            "image/png": "[encoded data removed]"
          },
          "metadata": {
            "needs_background": "light"
          }
        }
      ]
    },
    {
      "cell_type": "markdown",
      "source": [
        "# Decision Tree Expression"
      ],
      "metadata": {
        "id": "zJ5F-powtdI4"
      },
      "id": "zJ5F-powtdI4"
    },
    {
      "cell_type": "code",
      "source": [
        "X= df_red.drop(columns=['gender',\t'expression','label'],axis=1)\n",
        "y= df_red['expression']"
      ],
      "metadata": {
        "id": "WVq_YQl1toXG"
      },
      "id": "WVq_YQl1toXG",
      "execution_count": 158,
      "outputs": []
    },
    {
      "cell_type": "code",
      "source": [
        "X_train,X_test,y_train,y_test=train_test_split(X,y,test_size=0.2,random_state=0)"
      ],
      "metadata": {
        "id": "rzd7-UdGtodC"
      },
      "id": "rzd7-UdGtodC",
      "execution_count": 159,
      "outputs": []
    },
    {
      "cell_type": "code",
      "source": [
        "from sklearn.tree import DecisionTreeClassifier\n",
        "model=DecisionTreeClassifier()\n",
        "model.fit(X_train,y_train)"
      ],
      "metadata": {
        "colab": {
          "base_uri": "https://localhost:8080/"
        },
        "id": "6OSQZ88btofj",
        "outputId": "abc14a0a-1240-49ec-f82f-58bf3c7aacae"
      },
      "id": "6OSQZ88btofj",
      "execution_count": 160,
      "outputs": [
        {
          "output_type": "execute_result",
          "data": {
            "text/plain": [
              "DecisionTreeClassifier()"
            ]
          },
          "metadata": {},
          "execution_count": 160
        }
      ]
    },
    {
      "cell_type": "code",
      "source": [
        "y_pred=model.predict(X_test)\n",
        "y_pred"
      ],
      "metadata": {
        "colab": {
          "base_uri": "https://localhost:8080/"
        },
        "id": "sWOWhdGVtoiD",
        "outputId": "1e8d0eb1-d1b6-4590-df89-70439039fc71"
      },
      "id": "sWOWhdGVtoiD",
      "execution_count": 161,
      "outputs": [
        {
          "output_type": "execute_result",
          "data": {
            "text/plain": [
              "array(['neutral', 'smiling', 'anger', 'anger', 'left_light', 'left_light',\n",
              "       'anger', 'left_light', 'smiling', 'left_light', 'left_light',\n",
              "       'neutral', 'left_light', 'smiling', 'left_light', 'neutral',\n",
              "       'anger', 'anger', 'smiling', 'smiling', 'neutral', 'smiling',\n",
              "       'anger', 'neutral', 'smiling', 'neutral', 'smiling', 'left_light',\n",
              "       'neutral', 'neutral', 'left_light', 'neutral', 'anger', 'neutral',\n",
              "       'left_light', 'smiling', 'smiling', 'smiling', 'smiling',\n",
              "       'smiling', 'anger', 'anger', 'anger', 'left_light', 'neutral',\n",
              "       'neutral', 'left_light', 'left_light', 'smiling', 'anger', 'anger',\n",
              "       'smiling', 'anger', 'left_light', 'smiling', 'neutral', 'anger',\n",
              "       'left_light', 'neutral', 'neutral', 'anger', 'neutral', 'anger',\n",
              "       'smiling', 'neutral', 'smiling', 'anger', 'left_light', 'anger',\n",
              "       'left_light', 'neutral', 'left_light', 'left_light', 'neutral',\n",
              "       'left_light', 'neutral', 'smiling', 'neutral', 'left_light',\n",
              "       'smiling', 'anger', 'left_light', 'left_light', 'anger', 'neutral',\n",
              "       'smiling', 'anger', 'left_light', 'smiling', 'anger', 'left_light',\n",
              "       'smiling', 'anger', 'left_light', 'left_light', 'smiling',\n",
              "       'neutral', 'smiling', 'neutral', 'anger', 'anger'], dtype=object)"
            ]
          },
          "metadata": {},
          "execution_count": 161
        }
      ]
    },
    {
      "cell_type": "code",
      "source": [
        "y_test.values"
      ],
      "metadata": {
        "colab": {
          "base_uri": "https://localhost:8080/"
        },
        "id": "Q7E3Vh19tokf",
        "outputId": "53b40746-ad73-417f-a139-d93ca92717f3"
      },
      "id": "Q7E3Vh19tokf",
      "execution_count": 162,
      "outputs": [
        {
          "output_type": "execute_result",
          "data": {
            "text/plain": [
              "array(['anger', 'smiling', 'anger', 'neutral', 'left_light', 'left_light',\n",
              "       'anger', 'neutral', 'smiling', 'left_light', 'left_light',\n",
              "       'left_light', 'neutral', 'smiling', 'smiling', 'anger', 'anger',\n",
              "       'neutral', 'neutral', 'smiling', 'anger', 'smiling', 'anger',\n",
              "       'neutral', 'smiling', 'anger', 'smiling', 'left_light', 'neutral',\n",
              "       'anger', 'left_light', 'anger', 'neutral', 'anger', 'left_light',\n",
              "       'anger', 'smiling', 'smiling', 'anger', 'smiling', 'left_light',\n",
              "       'anger', 'anger', 'anger', 'neutral', 'smiling', 'smiling',\n",
              "       'left_light', 'smiling', 'anger', 'anger', 'neutral', 'anger',\n",
              "       'anger', 'anger', 'neutral', 'anger', 'left_light', 'smiling',\n",
              "       'neutral', 'anger', 'neutral', 'anger', 'smiling', 'left_light',\n",
              "       'left_light', 'anger', 'left_light', 'anger', 'left_light',\n",
              "       'neutral', 'smiling', 'left_light', 'neutral', 'smiling',\n",
              "       'neutral', 'smiling', 'neutral', 'left_light', 'neutral', 'anger',\n",
              "       'neutral', 'left_light', 'anger', 'anger', 'smiling', 'neutral',\n",
              "       'left_light', 'smiling', 'anger', 'left_light', 'smiling', 'anger',\n",
              "       'left_light', 'smiling', 'smiling', 'neutral', 'neutral',\n",
              "       'neutral', 'anger', 'left_light'], dtype=object)"
            ]
          },
          "metadata": {},
          "execution_count": 162
        }
      ]
    },
    {
      "cell_type": "code",
      "source": [
        "accuracy_score(y_test,y_pred)"
      ],
      "metadata": {
        "colab": {
          "base_uri": "https://localhost:8080/"
        },
        "id": "N0Sb_80ptomt",
        "outputId": "2a4e6ae1-1e87-4248-96d6-d9cac79fd7a0"
      },
      "id": "N0Sb_80ptomt",
      "execution_count": 163,
      "outputs": [
        {
          "output_type": "execute_result",
          "data": {
            "text/plain": [
              "0.6435643564356436"
            ]
          },
          "metadata": {},
          "execution_count": 163
        }
      ]
    },
    {
      "cell_type": "code",
      "source": [
        "y_test.value_counts()"
      ],
      "metadata": {
        "colab": {
          "base_uri": "https://localhost:8080/"
        },
        "id": "PqgsDO2ltopU",
        "outputId": "1732a58f-0fd0-46a0-ebf7-f499c559a701"
      },
      "id": "PqgsDO2ltopU",
      "execution_count": 164,
      "outputs": [
        {
          "output_type": "execute_result",
          "data": {
            "text/plain": [
              "anger         32\n",
              "smiling       24\n",
              "neutral       23\n",
              "left_light    22\n",
              "Name: expression, dtype: int64"
            ]
          },
          "metadata": {},
          "execution_count": 164
        }
      ]
    },
    {
      "cell_type": "code",
      "source": [
        "from sklearn.metrics import classification_report\n",
        "print(classification_report(y_test,y_pred))"
      ],
      "metadata": {
        "colab": {
          "base_uri": "https://localhost:8080/"
        },
        "id": "9szUyu5ntotS",
        "outputId": "40603e0c-c510-46fd-f24b-93b6e6959c80"
      },
      "id": "9szUyu5ntotS",
      "execution_count": 165,
      "outputs": [
        {
          "output_type": "stream",
          "name": "stdout",
          "text": [
            "              precision    recall  f1-score   support\n",
            "\n",
            "       anger       0.76      0.59      0.67        32\n",
            "  left_light       0.63      0.77      0.69        22\n",
            "     neutral       0.50      0.52      0.51        23\n",
            "     smiling       0.68      0.71      0.69        24\n",
            "\n",
            "    accuracy                           0.64       101\n",
            "   macro avg       0.64      0.65      0.64       101\n",
            "weighted avg       0.65      0.64      0.64       101\n",
            "\n"
          ]
        }
      ]
    },
    {
      "cell_type": "code",
      "source": [
        "confusion_matrix(y_test,y_pred)"
      ],
      "metadata": {
        "colab": {
          "base_uri": "https://localhost:8080/"
        },
        "id": "wXA2vA-rtovm",
        "outputId": "259a9726-6d8d-483d-cdc8-7720233149cf"
      },
      "id": "wXA2vA-rtovm",
      "execution_count": 166,
      "outputs": [
        {
          "output_type": "execute_result",
          "data": {
            "text/plain": [
              "array([[19,  2,  8,  3],\n",
              "       [ 2, 17,  2,  1],\n",
              "       [ 4,  3, 12,  4],\n",
              "       [ 0,  5,  2, 17]])"
            ]
          },
          "metadata": {},
          "execution_count": 166
        }
      ]
    },
    {
      "cell_type": "code",
      "source": [
        "sns.heatmap(confusion_matrix(y_test,y_pred))"
      ],
      "metadata": {
        "colab": {
          "base_uri": "https://localhost:8080/",
          "height": 282
        },
        "id": "Iv5eRf3ktuYG",
        "outputId": "37aeda95-f0e6-4aaf-acde-a3d3dc616f39"
      },
      "id": "Iv5eRf3ktuYG",
      "execution_count": 167,
      "outputs": [
        {
          "output_type": "execute_result",
          "data": {
            "text/plain": [
              "<matplotlib.axes._subplots.AxesSubplot at 0x7f437c78ef10>"
            ]
          },
          "metadata": {},
          "execution_count": 167
        },
        {
          "output_type": "display_data",
          "data": {
            "text/plain": [
              "<Figure size 432x288 with 2 Axes>"
            ],
            "image/png": "[encoded data removed]"
          },
          "metadata": {
            "needs_background": "light"
          }
        }
      ]
    },
    {
      "cell_type": "markdown",
      "source": [
        "# Decision Tree Gender"
      ],
      "metadata": {
        "id": "Km1HATCot-1t"
      },
      "id": "Km1HATCot-1t"
    },
    {
      "cell_type": "code",
      "source": [
        "X= df_red.drop(columns=['gender',\t'expression','label'],axis=1)\n",
        "y= df_red['gender']"
      ],
      "metadata": {
        "id": "lW56Og0xuBJp"
      },
      "id": "lW56Og0xuBJp",
      "execution_count": 168,
      "outputs": []
    },
    {
      "cell_type": "code",
      "source": [
        "X_train,X_test,y_train,y_test=train_test_split(X,y,test_size=0.2,random_state=0)"
      ],
      "metadata": {
        "id": "K_cVylX5uBLr"
      },
      "id": "K_cVylX5uBLr",
      "execution_count": 169,
      "outputs": []
    },
    {
      "cell_type": "code",
      "source": [
        "from sklearn.tree import DecisionTreeClassifier\n",
        "model=DecisionTreeClassifier()\n",
        "model.fit(X_train,y_train)"
      ],
      "metadata": {
        "colab": {
          "base_uri": "https://localhost:8080/"
        },
        "id": "KTF1UsL3uBN5",
        "outputId": "bbadca5d-77fe-446f-cd3c-d0bef8725f83"
      },
      "id": "KTF1UsL3uBN5",
      "execution_count": 170,
      "outputs": [
        {
          "output_type": "execute_result",
          "data": {
            "text/plain": [
              "DecisionTreeClassifier()"
            ]
          },
          "metadata": {},
          "execution_count": 170
        }
      ]
    },
    {
      "cell_type": "code",
      "source": [
        "y_pred=model.predict(X_test)\n",
        "y_pred"
      ],
      "metadata": {
        "colab": {
          "base_uri": "https://localhost:8080/"
        },
        "id": "T8VQTtq2uBQL",
        "outputId": "97e7d459-a253-426f-878b-a832d35924f3"
      },
      "id": "T8VQTtq2uBQL",
      "execution_count": 171,
      "outputs": [
        {
          "output_type": "execute_result",
          "data": {
            "text/plain": [
              "array(['male', 'male', 'male', 'female', 'female', 'male', 'female',\n",
              "       'female', 'female', 'male', 'male', 'male', 'male', 'male',\n",
              "       'female', 'male', 'male', 'female', 'female', 'female', 'female',\n",
              "       'male', 'male', 'male', 'female', 'male', 'male', 'female', 'male',\n",
              "       'male', 'female', 'female', 'male', 'male', 'male', 'female',\n",
              "       'male', 'male', 'male', 'male', 'female', 'male', 'female', 'male',\n",
              "       'male', 'male', 'male', 'female', 'female', 'male', 'female',\n",
              "       'male', 'male', 'male', 'male', 'male', 'male', 'female', 'female',\n",
              "       'female', 'male', 'male', 'female', 'male', 'female', 'female',\n",
              "       'male', 'male', 'female', 'male', 'male', 'male', 'male', 'female',\n",
              "       'male', 'male', 'male', 'male', 'male', 'male', 'male', 'female',\n",
              "       'female', 'female', 'male', 'male', 'male', 'male', 'female',\n",
              "       'male', 'male', 'female', 'female', 'female', 'female', 'female',\n",
              "       'male', 'female', 'male', 'female', 'male'], dtype=object)"
            ]
          },
          "metadata": {},
          "execution_count": 171
        }
      ]
    },
    {
      "cell_type": "code",
      "source": [
        "y_test.values"
      ],
      "metadata": {
        "colab": {
          "base_uri": "https://localhost:8080/"
        },
        "id": "n8Zwa5GcuBSf",
        "outputId": "e48eb02c-8f9d-425b-b07b-bb66aaecca6e"
      },
      "id": "n8Zwa5GcuBSf",
      "execution_count": 172,
      "outputs": [
        {
          "output_type": "execute_result",
          "data": {
            "text/plain": [
              "array(['male', 'male', 'female', 'female', 'female', 'male', 'female',\n",
              "       'female', 'male', 'male', 'female', 'male', 'male', 'male', 'male',\n",
              "       'female', 'female', 'male', 'male', 'male', 'male', 'female',\n",
              "       'female', 'male', 'male', 'female', 'male', 'female', 'male',\n",
              "       'male', 'female', 'male', 'male', 'female', 'male', 'female',\n",
              "       'female', 'female', 'male', 'male', 'female', 'male', 'female',\n",
              "       'male', 'male', 'male', 'female', 'female', 'female', 'male',\n",
              "       'female', 'male', 'male', 'male', 'male', 'male', 'female', 'male',\n",
              "       'female', 'male', 'male', 'male', 'female', 'female', 'female',\n",
              "       'male', 'male', 'female', 'female', 'male', 'male', 'male',\n",
              "       'female', 'female', 'male', 'male', 'female', 'male', 'female',\n",
              "       'male', 'female', 'male', 'male', 'female', 'female', 'female',\n",
              "       'female', 'male', 'female', 'male', 'female', 'female', 'female',\n",
              "       'female', 'male', 'female', 'male', 'female', 'male', 'female',\n",
              "       'male'], dtype=object)"
            ]
          },
          "metadata": {},
          "execution_count": 172
        }
      ]
    },
    {
      "cell_type": "code",
      "source": [
        "accuracy_score(y_test,y_pred)"
      ],
      "metadata": {
        "colab": {
          "base_uri": "https://localhost:8080/"
        },
        "id": "kEjhZHPkuBUa",
        "outputId": "344020ea-ca37-4e3d-b144-2fe6c48d06f6"
      },
      "id": "kEjhZHPkuBUa",
      "execution_count": 173,
      "outputs": [
        {
          "output_type": "execute_result",
          "data": {
            "text/plain": [
              "0.6435643564356436"
            ]
          },
          "metadata": {},
          "execution_count": 173
        }
      ]
    },
    {
      "cell_type": "code",
      "source": [
        "y_test.value_counts()"
      ],
      "metadata": {
        "colab": {
          "base_uri": "https://localhost:8080/"
        },
        "id": "VKAx65NouBWy",
        "outputId": "ceb11df2-ff4c-42c1-9de0-779b29a00688"
      },
      "id": "VKAx65NouBWy",
      "execution_count": 174,
      "outputs": [
        {
          "output_type": "execute_result",
          "data": {
            "text/plain": [
              "male      54\n",
              "female    47\n",
              "Name: gender, dtype: int64"
            ]
          },
          "metadata": {},
          "execution_count": 174
        }
      ]
    },
    {
      "cell_type": "code",
      "source": [
        "from sklearn.metrics import classification_report\n",
        "print(classification_report(y_test,y_pred))"
      ],
      "metadata": {
        "colab": {
          "base_uri": "https://localhost:8080/"
        },
        "id": "i9GhMkLjuBY3",
        "outputId": "da301736-b056-4be0-ba63-4fe98d2aae2d"
      },
      "id": "i9GhMkLjuBY3",
      "execution_count": 175,
      "outputs": [
        {
          "output_type": "stream",
          "name": "stdout",
          "text": [
            "              precision    recall  f1-score   support\n",
            "\n",
            "      female       0.64      0.53      0.58        47\n",
            "        male       0.65      0.74      0.69        54\n",
            "\n",
            "    accuracy                           0.64       101\n",
            "   macro avg       0.64      0.64      0.64       101\n",
            "weighted avg       0.64      0.64      0.64       101\n",
            "\n"
          ]
        }
      ]
    },
    {
      "cell_type": "code",
      "source": [
        "confusion_matrix(y_test,y_pred)"
      ],
      "metadata": {
        "colab": {
          "base_uri": "https://localhost:8080/"
        },
        "id": "frMJ1-xIuBbC",
        "outputId": "dcf70eae-b7e1-4d5b-ebe5-a480e3250160"
      },
      "id": "frMJ1-xIuBbC",
      "execution_count": 176,
      "outputs": [
        {
          "output_type": "execute_result",
          "data": {
            "text/plain": [
              "array([[25, 22],\n",
              "       [14, 40]])"
            ]
          },
          "metadata": {},
          "execution_count": 176
        }
      ]
    },
    {
      "cell_type": "code",
      "source": [
        "sns.heatmap(confusion_matrix(y_test,y_pred))"
      ],
      "metadata": {
        "colab": {
          "base_uri": "https://localhost:8080/",
          "height": 286
        },
        "id": "ti9C2teXuBdV",
        "outputId": "a6d4c6a4-a554-47b2-91e2-25357ea577e1"
      },
      "id": "ti9C2teXuBdV",
      "execution_count": 177,
      "outputs": [
        {
          "output_type": "execute_result",
          "data": {
            "text/plain": [
              "<matplotlib.axes._subplots.AxesSubplot at 0x7f437c59a390>"
            ]
          },
          "metadata": {},
          "execution_count": 177
        },
        {
          "output_type": "display_data",
          "data": {
            "text/plain": [
              "<Figure size 432x288 with 2 Axes>"
            ],
            "image/png": "[encoded data removed]"
          },
          "metadata": {
            "needs_background": "light"
          }
        }
      ]
    },
    {
      "cell_type": "markdown",
      "source": [
        "# Support Vector Machine Person Identifier"
      ],
      "metadata": {
        "id": "HZGw82-tgR41"
      },
      "id": "HZGw82-tgR41"
    },
    {
      "cell_type": "code",
      "source": [
        "X= df_red.drop(columns=['gender',\t'expression','label'],axis=1)\n",
        "y= df_red['label']"
      ],
      "metadata": {
        "id": "uhRTCrV6gVI5"
      },
      "id": "uhRTCrV6gVI5",
      "execution_count": 178,
      "outputs": []
    },
    {
      "cell_type": "code",
      "source": [
        "X_train,X_test,y_train,y_test=train_test_split(X,y,test_size=0.2,random_state=0)"
      ],
      "metadata": {
        "id": "Ro4-9iz2gWmJ"
      },
      "id": "Ro4-9iz2gWmJ",
      "execution_count": 179,
      "outputs": []
    },
    {
      "cell_type": "code",
      "source": [
        "from sklearn.svm import SVC\n",
        "model=SVC()\n",
        "model.fit(X_train,y_train)"
      ],
      "metadata": {
        "colab": {
          "base_uri": "https://localhost:8080/"
        },
        "id": "RFhgYGgMgYAs",
        "outputId": "d5761116-78c6-4084-f650-2db5dacd1dd4"
      },
      "id": "RFhgYGgMgYAs",
      "execution_count": 180,
      "outputs": [
        {
          "output_type": "execute_result",
          "data": {
            "text/plain": [
              "SVC()"
            ]
          },
          "metadata": {},
          "execution_count": 180
        }
      ]
    },
    {
      "cell_type": "code",
      "source": [
        "y_pred=model.predict(X_test)\n",
        "y_pred"
      ],
      "metadata": {
        "colab": {
          "base_uri": "https://localhost:8080/"
        },
        "id": "BipSef_NgaWU",
        "outputId": "145cec8b-0e80-4399-bf6b-654cf6f8e0da"
      },
      "id": "BipSef_NgaWU",
      "execution_count": 181,
      "outputs": [
        {
          "output_type": "execute_result",
          "data": {
            "text/plain": [
              "array([ 55, 112, 112, 115,  91, 115,  22, 115,   7,   1, 112, 115,  42,\n",
              "       112, 112,  91,  63,   1,  58, 112, 112,  91, 115, 115,  22, 115,\n",
              "        92,  22,  63, 115, 112,  63,  63,  63, 115,  89,  22, 112,  89,\n",
              "       112,  22, 112,  22, 112,  63,  92, 112,  22,  92,  91,  67,  63,\n",
              "         1, 115, 115,  58,  63,  67,  67,  63,  63,  67, 112, 112,   1,\n",
              "       112,  63,  22,  55, 112,  63,  22,  91,  67,  22,   1,  63, 112,\n",
              "        91, 115,  67, 115,  89,  91,  63,  22,  67,  58, 112,  91,  22,\n",
              "       112,  89,  91,  55,  89, 115,  89,  58, 112,  91])"
            ]
          },
          "metadata": {},
          "execution_count": 181
        }
      ]
    },
    {
      "cell_type": "code",
      "source": [
        "y_test.values"
      ],
      "metadata": {
        "colab": {
          "base_uri": "https://localhost:8080/"
        },
        "id": "5NkOYNj5gbmM",
        "outputId": "7ba8eed3-447a-435d-9d51-391659306aa6"
      },
      "id": "5NkOYNj5gbmM",
      "execution_count": 182,
      "outputs": [
        {
          "output_type": "execute_result",
          "data": {
            "text/plain": [
              "array([ 23,  25, 122,  88, 101,   3,  82, 107,  41,  39, 111,  64,  65,\n",
              "        56,  44,  76, 128,  50,  40,   9,  53,  99, 118,  28,  11, 103,\n",
              "         5,  96,  25,  60, 100,  30,  32, 134,  52,  93,  80, 116,  68,\n",
              "        49,  82,  11, 104,  57,  20,   0, 117,  90, 108,  26,  94,  44,\n",
              "        56,  37,  34,   3,  85,  44,  94,  72,  20,  71, 100, 110,  77,\n",
              "        62,   2, 104, 111,  19,  37,  16,  88,  87,  45,  59, 121,  26,\n",
              "       131,  54,  77,  61,  56,  97,  83,  85, 109,  40,  79,  13,  98,\n",
              "       104,  78, 116,  46, 106,  14, 114,  15, 131,  27])"
            ]
          },
          "metadata": {},
          "execution_count": 182
        }
      ]
    },
    {
      "cell_type": "code",
      "source": [
        "accuracy_score(y_test,y_pred)"
      ],
      "metadata": {
        "colab": {
          "base_uri": "https://localhost:8080/"
        },
        "id": "xqqpxBNkgcw4",
        "outputId": "49b4a899-4b7f-459a-9fac-c9268523585a"
      },
      "id": "xqqpxBNkgcw4",
      "execution_count": 183,
      "outputs": [
        {
          "output_type": "execute_result",
          "data": {
            "text/plain": [
              "0.0"
            ]
          },
          "metadata": {},
          "execution_count": 183
        }
      ]
    },
    {
      "cell_type": "code",
      "source": [
        "y_pred"
      ],
      "metadata": {
        "colab": {
          "base_uri": "https://localhost:8080/"
        },
        "id": "QbayNXHvgdwm",
        "outputId": "5c5e51e3-bd21-4e3d-bb6c-d27c792733ab"
      },
      "id": "QbayNXHvgdwm",
      "execution_count": 184,
      "outputs": [
        {
          "output_type": "execute_result",
          "data": {
            "text/plain": [
              "array([ 55, 112, 112, 115,  91, 115,  22, 115,   7,   1, 112, 115,  42,\n",
              "       112, 112,  91,  63,   1,  58, 112, 112,  91, 115, 115,  22, 115,\n",
              "        92,  22,  63, 115, 112,  63,  63,  63, 115,  89,  22, 112,  89,\n",
              "       112,  22, 112,  22, 112,  63,  92, 112,  22,  92,  91,  67,  63,\n",
              "         1, 115, 115,  58,  63,  67,  67,  63,  63,  67, 112, 112,   1,\n",
              "       112,  63,  22,  55, 112,  63,  22,  91,  67,  22,   1,  63, 112,\n",
              "        91, 115,  67, 115,  89,  91,  63,  22,  67,  58, 112,  91,  22,\n",
              "       112,  89,  91,  55,  89, 115,  89,  58, 112,  91])"
            ]
          },
          "metadata": {},
          "execution_count": 184
        }
      ]
    },
    {
      "cell_type": "code",
      "source": [
        "from sklearn.metrics import classification_report\n",
        "print(classification_report(y_test,y_pred))"
      ],
      "metadata": {
        "id": "cDMZ4WWGgfAZ"
      },
      "id": "cDMZ4WWGgfAZ",
      "execution_count": null,
      "outputs": []
    },
    {
      "cell_type": "code",
      "source": [
        "y_test.value_counts()"
      ],
      "metadata": {
        "colab": {
          "base_uri": "https://localhost:8080/"
        },
        "id": "KTgwoksVggCm",
        "outputId": "404fb4fe-8383-41fc-d6c4-a661131a5a95"
      },
      "id": "KTgwoksVggCm",
      "execution_count": 186,
      "outputs": [
        {
          "output_type": "execute_result",
          "data": {
            "text/plain": [
              "104    3\n",
              "44     3\n",
              "56     3\n",
              "37     2\n",
              "20     2\n",
              "      ..\n",
              "49     1\n",
              "57     1\n",
              "0      1\n",
              "117    1\n",
              "27     1\n",
              "Name: label, Length: 79, dtype: int64"
            ]
          },
          "metadata": {},
          "execution_count": 186
        }
      ]
    },
    {
      "cell_type": "code",
      "source": [
        "confusion_matrix(y_test,y_pred)"
      ],
      "metadata": {
        "colab": {
          "base_uri": "https://localhost:8080/"
        },
        "id": "zAwt8rCBgg_s",
        "outputId": "dcd1cbf9-940d-4101-b664-78cec7d68494"
      },
      "id": "zAwt8rCBgg_s",
      "execution_count": 187,
      "outputs": [
        {
          "output_type": "execute_result",
          "data": {
            "text/plain": [
              "array([[0, 0, 0, ..., 0, 0, 0],\n",
              "       [0, 0, 0, ..., 0, 0, 0],\n",
              "       [0, 0, 0, ..., 0, 0, 0],\n",
              "       ...,\n",
              "       [0, 0, 0, ..., 0, 0, 0],\n",
              "       [0, 0, 0, ..., 0, 0, 0],\n",
              "       [0, 0, 0, ..., 0, 0, 0]])"
            ]
          },
          "metadata": {},
          "execution_count": 187
        }
      ]
    },
    {
      "cell_type": "code",
      "source": [
        "sns.heatmap(confusion_matrix(y_test,y_pred))"
      ],
      "metadata": {
        "colab": {
          "base_uri": "https://localhost:8080/",
          "height": 289
        },
        "id": "LUJzeabVgh6v",
        "outputId": "518c3ef5-a80c-42e8-c5e5-5af03eb96c2f"
      },
      "id": "LUJzeabVgh6v",
      "execution_count": 188,
      "outputs": [
        {
          "output_type": "execute_result",
          "data": {
            "text/plain": [
              "<matplotlib.axes._subplots.AxesSubplot at 0x7f437c4bae90>"
            ]
          },
          "metadata": {},
          "execution_count": 188
        },
        {
          "output_type": "display_data",
          "data": {
            "text/plain": [
              "<Figure size 432x288 with 2 Axes>"
            ],
            "image/png": "[encoded data removed]"
          },
          "metadata": {
            "needs_background": "light"
          }
        }
      ]
    },
    {
      "cell_type": "markdown",
      "source": [
        "# Support Vector Machine Expression"
      ],
      "metadata": {
        "id": "tAaQClXau--D"
      },
      "id": "tAaQClXau--D"
    },
    {
      "cell_type": "code",
      "source": [
        "X= df_red.drop(columns=['gender',\t'expression','label'],axis=1)\n",
        "y= df_red['expression']"
      ],
      "metadata": {
        "id": "21L7vDlMvBry"
      },
      "id": "21L7vDlMvBry",
      "execution_count": 189,
      "outputs": []
    },
    {
      "cell_type": "code",
      "source": [
        "X_train,X_test,y_train,y_test=train_test_split(X,y,test_size=0.2,random_state=0)"
      ],
      "metadata": {
        "id": "f9ot-QuVvHPH"
      },
      "id": "f9ot-QuVvHPH",
      "execution_count": 190,
      "outputs": []
    },
    {
      "cell_type": "code",
      "source": [
        "from sklearn.svm import SVC\n",
        "model=SVC()\n",
        "model.fit(X_train,y_train)"
      ],
      "metadata": {
        "colab": {
          "base_uri": "https://localhost:8080/"
        },
        "id": "DvHXwAPqvHQh",
        "outputId": "bd251a47-33cd-4f90-d366-8180f7debc51"
      },
      "id": "DvHXwAPqvHQh",
      "execution_count": 191,
      "outputs": [
        {
          "output_type": "execute_result",
          "data": {
            "text/plain": [
              "SVC()"
            ]
          },
          "metadata": {},
          "execution_count": 191
        }
      ]
    },
    {
      "cell_type": "code",
      "source": [
        "y_pred=model.predict(X_test)\n",
        "y_pred"
      ],
      "metadata": {
        "colab": {
          "base_uri": "https://localhost:8080/"
        },
        "id": "4LSnsuiZvHRv",
        "outputId": "892feebc-997d-42d3-d307-631c12eb63c0"
      },
      "id": "4LSnsuiZvHRv",
      "execution_count": 192,
      "outputs": [
        {
          "output_type": "execute_result",
          "data": {
            "text/plain": [
              "array(['anger', 'left_light', 'left_light', 'anger', 'left_light',\n",
              "       'anger', 'left_light', 'anger', 'left_light', 'left_light',\n",
              "       'left_light', 'anger', 'neutral', 'left_light', 'left_light',\n",
              "       'left_light', 'neutral', 'left_light', 'neutral', 'left_light',\n",
              "       'left_light', 'left_light', 'neutral', 'neutral', 'left_light',\n",
              "       'neutral', 'left_light', 'left_light', 'neutral', 'anger',\n",
              "       'left_light', 'neutral', 'neutral', 'neutral', 'neutral',\n",
              "       'left_light', 'left_light', 'left_light', 'left_light',\n",
              "       'left_light', 'left_light', 'left_light', 'left_light',\n",
              "       'left_light', 'neutral', 'left_light', 'left_light', 'left_light',\n",
              "       'left_light', 'left_light', 'left_light', 'neutral', 'left_light',\n",
              "       'anger', 'neutral', 'neutral', 'neutral', 'left_light',\n",
              "       'left_light', 'neutral', 'neutral', 'left_light', 'left_light',\n",
              "       'left_light', 'left_light', 'left_light', 'neutral', 'left_light',\n",
              "       'anger', 'left_light', 'neutral', 'left_light', 'left_light',\n",
              "       'anger', 'left_light', 'left_light', 'neutral', 'left_light',\n",
              "       'left_light', 'neutral', 'anger', 'anger', 'left_light',\n",
              "       'left_light', 'neutral', 'left_light', 'left_light', 'neutral',\n",
              "       'left_light', 'left_light', 'left_light', 'left_light',\n",
              "       'left_light', 'left_light', 'anger', 'left_light', 'anger',\n",
              "       'left_light', 'neutral', 'left_light', 'left_light'], dtype=object)"
            ]
          },
          "metadata": {},
          "execution_count": 192
        }
      ]
    },
    {
      "cell_type": "code",
      "source": [
        "y_test.values"
      ],
      "metadata": {
        "colab": {
          "base_uri": "https://localhost:8080/"
        },
        "id": "ysCpsieLvHUt",
        "outputId": "4da2f52f-0cb7-4795-fefa-ef693e246862"
      },
      "id": "ysCpsieLvHUt",
      "execution_count": 193,
      "outputs": [
        {
          "output_type": "execute_result",
          "data": {
            "text/plain": [
              "array(['anger', 'smiling', 'anger', 'neutral', 'left_light', 'left_light',\n",
              "       'anger', 'neutral', 'smiling', 'left_light', 'left_light',\n",
              "       'left_light', 'neutral', 'smiling', 'smiling', 'anger', 'anger',\n",
              "       'neutral', 'neutral', 'smiling', 'anger', 'smiling', 'anger',\n",
              "       'neutral', 'smiling', 'anger', 'smiling', 'left_light', 'neutral',\n",
              "       'anger', 'left_light', 'anger', 'neutral', 'anger', 'left_light',\n",
              "       'anger', 'smiling', 'smiling', 'anger', 'smiling', 'left_light',\n",
              "       'anger', 'anger', 'anger', 'neutral', 'smiling', 'smiling',\n",
              "       'left_light', 'smiling', 'anger', 'anger', 'neutral', 'anger',\n",
              "       'anger', 'anger', 'neutral', 'anger', 'left_light', 'smiling',\n",
              "       'neutral', 'anger', 'neutral', 'anger', 'smiling', 'left_light',\n",
              "       'left_light', 'anger', 'left_light', 'anger', 'left_light',\n",
              "       'neutral', 'smiling', 'left_light', 'neutral', 'smiling',\n",
              "       'neutral', 'smiling', 'neutral', 'left_light', 'neutral', 'anger',\n",
              "       'neutral', 'left_light', 'anger', 'anger', 'smiling', 'neutral',\n",
              "       'left_light', 'smiling', 'anger', 'left_light', 'smiling', 'anger',\n",
              "       'left_light', 'smiling', 'smiling', 'neutral', 'neutral',\n",
              "       'neutral', 'anger', 'left_light'], dtype=object)"
            ]
          },
          "metadata": {},
          "execution_count": 193
        }
      ]
    },
    {
      "cell_type": "code",
      "source": [
        "accuracy_score(y_test,y_pred)"
      ],
      "metadata": {
        "colab": {
          "base_uri": "https://localhost:8080/"
        },
        "id": "lqtC-CqyvHWf",
        "outputId": "e9ea960c-2eb0-47b9-e793-1b61492cfb97"
      },
      "id": "lqtC-CqyvHWf",
      "execution_count": 194,
      "outputs": [
        {
          "output_type": "execute_result",
          "data": {
            "text/plain": [
              "0.3465346534653465"
            ]
          },
          "metadata": {},
          "execution_count": 194
        }
      ]
    },
    {
      "cell_type": "code",
      "source": [
        "y_test.value_counts()"
      ],
      "metadata": {
        "colab": {
          "base_uri": "https://localhost:8080/"
        },
        "id": "I0zVwzBuvHYF",
        "outputId": "664330a7-92ce-4c5f-9513-5184a2d63e61"
      },
      "id": "I0zVwzBuvHYF",
      "execution_count": 195,
      "outputs": [
        {
          "output_type": "execute_result",
          "data": {
            "text/plain": [
              "anger         32\n",
              "smiling       24\n",
              "neutral       23\n",
              "left_light    22\n",
              "Name: expression, dtype: int64"
            ]
          },
          "metadata": {},
          "execution_count": 195
        }
      ]
    },
    {
      "cell_type": "code",
      "source": [
        "from sklearn.metrics import classification_report\n",
        "print(classification_report(y_test,y_pred))"
      ],
      "metadata": {
        "colab": {
          "base_uri": "https://localhost:8080/"
        },
        "id": "vybBZXDGvHZd",
        "outputId": "508ce807-1ac5-4d64-b483-f643883a054a"
      },
      "id": "vybBZXDGvHZd",
      "execution_count": 196,
      "outputs": [
        {
          "output_type": "stream",
          "name": "stdout",
          "text": [
            "              precision    recall  f1-score   support\n",
            "\n",
            "       anger       0.38      0.16      0.22        32\n",
            "  left_light       0.29      0.82      0.42        22\n",
            "     neutral       0.48      0.52      0.50        23\n",
            "     smiling       0.00      0.00      0.00        24\n",
            "\n",
            "    accuracy                           0.35       101\n",
            "   macro avg       0.29      0.37      0.29       101\n",
            "weighted avg       0.29      0.35      0.28       101\n",
            "\n"
          ]
        },
        {
          "output_type": "stream",
          "name": "stderr",
          "text": [
            "/usr/local/lib/python3.7/dist-packages/sklearn/metrics/_classification.py:1318: UndefinedMetricWarning: Precision and F-score are ill-defined and being set to 0.0 in labels with no predicted samples. Use `zero_division` parameter to control this behavior.\n",
            "  _warn_prf(average, modifier, msg_start, len(result))\n",
            "/usr/local/lib/python3.7/dist-packages/sklearn/metrics/_classification.py:1318: UndefinedMetricWarning: Precision and F-score are ill-defined and being set to 0.0 in labels with no predicted samples. Use `zero_division` parameter to control this behavior.\n",
            "  _warn_prf(average, modifier, msg_start, len(result))\n",
            "/usr/local/lib/python3.7/dist-packages/sklearn/metrics/_classification.py:1318: UndefinedMetricWarning: Precision and F-score are ill-defined and being set to 0.0 in labels with no predicted samples. Use `zero_division` parameter to control this behavior.\n",
            "  _warn_prf(average, modifier, msg_start, len(result))\n"
          ]
        }
      ]
    },
    {
      "cell_type": "code",
      "source": [
        "confusion_matrix(y_test,y_pred)"
      ],
      "metadata": {
        "colab": {
          "base_uri": "https://localhost:8080/"
        },
        "id": "ULRbBGYFvHbL",
        "outputId": "c9fc249d-b17e-43fe-c271-26a115b92529"
      },
      "id": "ULRbBGYFvHbL",
      "execution_count": 197,
      "outputs": [
        {
          "output_type": "execute_result",
          "data": {
            "text/plain": [
              "array([[ 5, 17, 10,  0],\n",
              "       [ 2, 18,  2,  0],\n",
              "       [ 5,  6, 12,  0],\n",
              "       [ 1, 22,  1,  0]])"
            ]
          },
          "metadata": {},
          "execution_count": 197
        }
      ]
    },
    {
      "cell_type": "code",
      "source": [
        "sns.heatmap(confusion_matrix(y_test,y_pred))"
      ],
      "metadata": {
        "colab": {
          "base_uri": "https://localhost:8080/",
          "height": 282
        },
        "id": "OAQVOdmOvHtl",
        "outputId": "c2579520-4a70-4981-f5d3-36827a96aa29"
      },
      "id": "OAQVOdmOvHtl",
      "execution_count": 198,
      "outputs": [
        {
          "output_type": "execute_result",
          "data": {
            "text/plain": [
              "<matplotlib.axes._subplots.AxesSubplot at 0x7f437ccebfd0>"
            ]
          },
          "metadata": {},
          "execution_count": 198
        },
        {
          "output_type": "display_data",
          "data": {
            "text/plain": [
              "<Figure size 432x288 with 2 Axes>"
            ],
            "image/png": "[encoded data removed]"
          },
          "metadata": {
            "needs_background": "light"
          }
        }
      ]
    },
    {
      "cell_type": "markdown",
      "source": [
        "# Support Vector Machine Gender"
      ],
      "metadata": {
        "id": "bmsBbAZWvmuV"
      },
      "id": "bmsBbAZWvmuV"
    },
    {
      "cell_type": "code",
      "source": [
        "X= df_red.drop(columns=['gender',\t'expression','label'],axis=1)\n",
        "y= df_red['gender']"
      ],
      "metadata": {
        "id": "jITWcDgqvola"
      },
      "id": "jITWcDgqvola",
      "execution_count": 199,
      "outputs": []
    },
    {
      "cell_type": "code",
      "source": [
        "X_train,X_test,y_train,y_test=train_test_split(X,y,test_size=0.2,random_state=0)"
      ],
      "metadata": {
        "id": "8nDcNXz3vopq"
      },
      "id": "8nDcNXz3vopq",
      "execution_count": 200,
      "outputs": []
    },
    {
      "cell_type": "code",
      "source": [
        "from sklearn.svm import SVC\n",
        "model=SVC()\n",
        "model.fit(X_train,y_train)"
      ],
      "metadata": {
        "colab": {
          "base_uri": "https://localhost:8080/"
        },
        "id": "gBYZo8iPvorz",
        "outputId": "9b5dd495-d76e-42cd-bdfc-b28e082654e0"
      },
      "id": "gBYZo8iPvorz",
      "execution_count": 207,
      "outputs": [
        {
          "output_type": "execute_result",
          "data": {
            "text/plain": [
              "SVC()"
            ]
          },
          "metadata": {},
          "execution_count": 207
        }
      ]
    },
    {
      "cell_type": "code",
      "source": [
        "y_pred=model.predict(X_test)\n",
        "y_pred"
      ],
      "metadata": {
        "colab": {
          "base_uri": "https://localhost:8080/"
        },
        "id": "EA1IaBeUvouG",
        "outputId": "ddb394b4-b7de-491b-c0f9-906ab74c8089"
      },
      "id": "EA1IaBeUvouG",
      "execution_count": 209,
      "outputs": [
        {
          "output_type": "execute_result",
          "data": {
            "text/plain": [
              "array(['male', 'male', 'male', 'male', 'male', 'male', 'male', 'male',\n",
              "       'male', 'male', 'male', 'male', 'male', 'male', 'male', 'male',\n",
              "       'male', 'male', 'male', 'male', 'male', 'male', 'male', 'male',\n",
              "       'male', 'male', 'male', 'male', 'male', 'male', 'male', 'male',\n",
              "       'male', 'male', 'male', 'male', 'male', 'male', 'male', 'male',\n",
              "       'male', 'male', 'male', 'male', 'male', 'male', 'male', 'male',\n",
              "       'male', 'male', 'male', 'male', 'male', 'male', 'male', 'male',\n",
              "       'male', 'male', 'male', 'male', 'male', 'male', 'male', 'male',\n",
              "       'male', 'male', 'male', 'male', 'male', 'male', 'male', 'male',\n",
              "       'male', 'male', 'male', 'male', 'male', 'male', 'male', 'male',\n",
              "       'male', 'male', 'male', 'male', 'male', 'male', 'male', 'male',\n",
              "       'male', 'male', 'male', 'male', 'male', 'male', 'male', 'male',\n",
              "       'male', 'male', 'male', 'male', 'male'], dtype=object)"
            ]
          },
          "metadata": {},
          "execution_count": 209
        }
      ]
    },
    {
      "cell_type": "code",
      "source": [
        "y_test.values"
      ],
      "metadata": {
        "colab": {
          "base_uri": "https://localhost:8080/"
        },
        "id": "O-TNBAWOvowL",
        "outputId": "682eb534-bd5e-4112-fba0-bebe3f632b1e"
      },
      "id": "O-TNBAWOvowL",
      "execution_count": 210,
      "outputs": [
        {
          "output_type": "execute_result",
          "data": {
            "text/plain": [
              "array(['male', 'male', 'female', 'female', 'female', 'male', 'female',\n",
              "       'female', 'male', 'male', 'female', 'male', 'male', 'male', 'male',\n",
              "       'female', 'female', 'male', 'male', 'male', 'male', 'female',\n",
              "       'female', 'male', 'male', 'female', 'male', 'female', 'male',\n",
              "       'male', 'female', 'male', 'male', 'female', 'male', 'female',\n",
              "       'female', 'female', 'male', 'male', 'female', 'male', 'female',\n",
              "       'male', 'male', 'male', 'female', 'female', 'female', 'male',\n",
              "       'female', 'male', 'male', 'male', 'male', 'male', 'female', 'male',\n",
              "       'female', 'male', 'male', 'male', 'female', 'female', 'female',\n",
              "       'male', 'male', 'female', 'female', 'male', 'male', 'male',\n",
              "       'female', 'female', 'male', 'male', 'female', 'male', 'female',\n",
              "       'male', 'female', 'male', 'male', 'female', 'female', 'female',\n",
              "       'female', 'male', 'female', 'male', 'female', 'female', 'female',\n",
              "       'female', 'male', 'female', 'male', 'female', 'male', 'female',\n",
              "       'male'], dtype=object)"
            ]
          },
          "metadata": {},
          "execution_count": 210
        }
      ]
    },
    {
      "cell_type": "code",
      "source": [
        "accuracy_score(y_test,y_pred)"
      ],
      "metadata": {
        "colab": {
          "base_uri": "https://localhost:8080/"
        },
        "id": "1Xod0euJvoyi",
        "outputId": "b59635ec-814b-418a-a846-9ff76b326faa"
      },
      "id": "1Xod0euJvoyi",
      "execution_count": 211,
      "outputs": [
        {
          "output_type": "execute_result",
          "data": {
            "text/plain": [
              "0.5346534653465347"
            ]
          },
          "metadata": {},
          "execution_count": 211
        }
      ]
    },
    {
      "cell_type": "code",
      "source": [
        "y_test.value_counts()"
      ],
      "metadata": {
        "colab": {
          "base_uri": "https://localhost:8080/"
        },
        "id": "t3wnvv9Tvo05",
        "outputId": "35fd6f93-046f-415b-abba-fcfd8093a57b"
      },
      "id": "t3wnvv9Tvo05",
      "execution_count": 212,
      "outputs": [
        {
          "output_type": "execute_result",
          "data": {
            "text/plain": [
              "male      54\n",
              "female    47\n",
              "Name: gender, dtype: int64"
            ]
          },
          "metadata": {},
          "execution_count": 212
        }
      ]
    },
    {
      "cell_type": "code",
      "source": [
        "from sklearn.metrics import classification_report\n",
        "print(classification_report(y_test,y_pred))"
      ],
      "metadata": {
        "colab": {
          "base_uri": "https://localhost:8080/"
        },
        "id": "5G5vWLXLvo3Q",
        "outputId": "813c99bf-81ce-47b0-e4f8-10897ecb450e"
      },
      "id": "5G5vWLXLvo3Q",
      "execution_count": 213,
      "outputs": [
        {
          "output_type": "stream",
          "name": "stdout",
          "text": [
            "              precision    recall  f1-score   support\n",
            "\n",
            "      female       0.00      0.00      0.00        47\n",
            "        male       0.53      1.00      0.70        54\n",
            "\n",
            "    accuracy                           0.53       101\n",
            "   macro avg       0.27      0.50      0.35       101\n",
            "weighted avg       0.29      0.53      0.37       101\n",
            "\n"
          ]
        },
        {
          "output_type": "stream",
          "name": "stderr",
          "text": [
            "/usr/local/lib/python3.7/dist-packages/sklearn/metrics/_classification.py:1318: UndefinedMetricWarning: Precision and F-score are ill-defined and being set to 0.0 in labels with no predicted samples. Use `zero_division` parameter to control this behavior.\n",
            "  _warn_prf(average, modifier, msg_start, len(result))\n",
            "/usr/local/lib/python3.7/dist-packages/sklearn/metrics/_classification.py:1318: UndefinedMetricWarning: Precision and F-score are ill-defined and being set to 0.0 in labels with no predicted samples. Use `zero_division` parameter to control this behavior.\n",
            "  _warn_prf(average, modifier, msg_start, len(result))\n",
            "/usr/local/lib/python3.7/dist-packages/sklearn/metrics/_classification.py:1318: UndefinedMetricWarning: Precision and F-score are ill-defined and being set to 0.0 in labels with no predicted samples. Use `zero_division` parameter to control this behavior.\n",
            "  _warn_prf(average, modifier, msg_start, len(result))\n"
          ]
        }
      ]
    },
    {
      "cell_type": "code",
      "source": [
        "confusion_matrix(y_test,y_pred)"
      ],
      "metadata": {
        "colab": {
          "base_uri": "https://localhost:8080/"
        },
        "id": "Nju9L8Cfvo5k",
        "outputId": "7e011684-fa23-41f1-c700-b993616514ff"
      },
      "id": "Nju9L8Cfvo5k",
      "execution_count": 214,
      "outputs": [
        {
          "output_type": "execute_result",
          "data": {
            "text/plain": [
              "array([[ 0, 47],\n",
              "       [ 0, 54]])"
            ]
          },
          "metadata": {},
          "execution_count": 214
        }
      ]
    },
    {
      "cell_type": "code",
      "source": [
        "sns.heatmap(confusion_matrix(y_test,y_pred))"
      ],
      "metadata": {
        "colab": {
          "base_uri": "https://localhost:8080/",
          "height": 282
        },
        "id": "o_e_R5rPvo76",
        "outputId": "ca3f78ba-dff6-4ffc-b686-7c3126488f85"
      },
      "id": "o_e_R5rPvo76",
      "execution_count": 215,
      "outputs": [
        {
          "output_type": "execute_result",
          "data": {
            "text/plain": [
              "<matplotlib.axes._subplots.AxesSubplot at 0x7f437d901a50>"
            ]
          },
          "metadata": {},
          "execution_count": 215
        },
        {
          "output_type": "display_data",
          "data": {
            "text/plain": [
              "<Figure size 432x288 with 2 Axes>"
            ],
            "image/png": "[encoded data removed]"
          },
          "metadata": {
            "needs_background": "light"
          }
        }
      ]
    },
    {
      "cell_type": "markdown",
      "source": [
        "# ANN Person Identifier"
      ],
      "metadata": {
        "id": "7uPgcZzWhlaN"
      },
      "id": "7uPgcZzWhlaN"
    },
    {
      "cell_type": "code",
      "source": [
        "X= df_red.drop(columns=['gender',\t'expression','label'],axis=1)\n",
        "y= df_red['label']"
      ],
      "metadata": {
        "id": "lM7aJs9HhmrF"
      },
      "id": "lM7aJs9HhmrF",
      "execution_count": 216,
      "outputs": []
    },
    {
      "cell_type": "code",
      "source": [
        "X_train,X_test,y_train,y_test=train_test_split(X,y,test_size=0.2,random_state=0)"
      ],
      "metadata": {
        "id": "kwX8KJl4hoQI"
      },
      "id": "kwX8KJl4hoQI",
      "execution_count": 217,
      "outputs": []
    },
    {
      "cell_type": "code",
      "source": [
        "from sklearn.neural_network import MLPClassifier\n",
        "model=MLPClassifier(hidden_layer_sizes=(100))\n",
        "model.fit(X_train,y_train)"
      ],
      "metadata": {
        "colab": {
          "base_uri": "https://localhost:8080/"
        },
        "id": "HNG-ebB0hqUM",
        "outputId": "a6e71012-1b53-4581-aea0-4d72e9f0a765"
      },
      "id": "HNG-ebB0hqUM",
      "execution_count": 218,
      "outputs": [
        {
          "output_type": "stream",
          "name": "stderr",
          "text": [
            "/usr/local/lib/python3.7/dist-packages/sklearn/neural_network/_multilayer_perceptron.py:696: ConvergenceWarning: Stochastic Optimizer: Maximum iterations (200) reached and the optimization hasn't converged yet.\n",
            "  ConvergenceWarning,\n"
          ]
        },
        {
          "output_type": "execute_result",
          "data": {
            "text/plain": [
              "MLPClassifier(hidden_layer_sizes=100)"
            ]
          },
          "metadata": {},
          "execution_count": 218
        }
      ]
    },
    {
      "cell_type": "code",
      "source": [
        "y_pred=model.predict(X_test)\n",
        "y_pred"
      ],
      "metadata": {
        "colab": {
          "base_uri": "https://localhost:8080/"
        },
        "id": "FwanAE_6hrgu",
        "outputId": "833e232f-b55c-4c29-8d50-bf9adf766275"
      },
      "id": "FwanAE_6hrgu",
      "execution_count": 220,
      "outputs": [
        {
          "output_type": "execute_result",
          "data": {
            "text/plain": [
              "array([ 47,  47,  47,  47,   7,  47, 109,  47,  47,  47,  47,  47,  42,\n",
              "        47,  47,   7,  47,  47,  47,  47,  47,  47,  47,  47,   7,  47,\n",
              "        47, 109,  47,  47,  47,  47,  47,  47,  47,  47,   7,  47,  47,\n",
              "        47, 109,  47,   7,  47,  47,  47,  47, 109,  47,   7,  47,  47,\n",
              "        47,  47,  47,  42,  47,  47,  47,  47,  47,  47,  47,  47,  47,\n",
              "        47,  47,   7,  47,  47,  47,   7,   7,  47,   7,  47,  47,  47,\n",
              "         7,  47,  47,  47,  47,   7,  47,   7,  47,  47,  47,   7,   7,\n",
              "         7,  47,   7,  47,  47,  47,  47,  42,  47,   7])"
            ]
          },
          "metadata": {},
          "execution_count": 220
        }
      ]
    },
    {
      "cell_type": "code",
      "source": [
        "y_test.values"
      ],
      "metadata": {
        "colab": {
          "base_uri": "https://localhost:8080/"
        },
        "id": "XXurJO4nhsnm",
        "outputId": "85c4f319-1f1c-4074-920e-2b76c38fee03"
      },
      "id": "XXurJO4nhsnm",
      "execution_count": 221,
      "outputs": [
        {
          "output_type": "execute_result",
          "data": {
            "text/plain": [
              "array([ 23,  25, 122,  88, 101,   3,  82, 107,  41,  39, 111,  64,  65,\n",
              "        56,  44,  76, 128,  50,  40,   9,  53,  99, 118,  28,  11, 103,\n",
              "         5,  96,  25,  60, 100,  30,  32, 134,  52,  93,  80, 116,  68,\n",
              "        49,  82,  11, 104,  57,  20,   0, 117,  90, 108,  26,  94,  44,\n",
              "        56,  37,  34,   3,  85,  44,  94,  72,  20,  71, 100, 110,  77,\n",
              "        62,   2, 104, 111,  19,  37,  16,  88,  87,  45,  59, 121,  26,\n",
              "       131,  54,  77,  61,  56,  97,  83,  85, 109,  40,  79,  13,  98,\n",
              "       104,  78, 116,  46, 106,  14, 114,  15, 131,  27])"
            ]
          },
          "metadata": {},
          "execution_count": 221
        }
      ]
    },
    {
      "cell_type": "code",
      "source": [
        "accuracy_score(y_test,y_pred)"
      ],
      "metadata": {
        "colab": {
          "base_uri": "https://localhost:8080/"
        },
        "id": "f0MLpduUhttD",
        "outputId": "fe3ef44e-1c87-424e-cc4f-14d43ff14d2d"
      },
      "id": "f0MLpduUhttD",
      "execution_count": 222,
      "outputs": [
        {
          "output_type": "execute_result",
          "data": {
            "text/plain": [
              "0.0"
            ]
          },
          "metadata": {},
          "execution_count": 222
        }
      ]
    },
    {
      "cell_type": "code",
      "source": [
        "y_pred"
      ],
      "metadata": {
        "colab": {
          "base_uri": "https://localhost:8080/"
        },
        "id": "A6pgxYk7hutN",
        "outputId": "015609c0-ff2c-43f0-92af-a54720e10a6b"
      },
      "id": "A6pgxYk7hutN",
      "execution_count": 223,
      "outputs": [
        {
          "output_type": "execute_result",
          "data": {
            "text/plain": [
              "array([ 47,  47,  47,  47,   7,  47, 109,  47,  47,  47,  47,  47,  42,\n",
              "        47,  47,   7,  47,  47,  47,  47,  47,  47,  47,  47,   7,  47,\n",
              "        47, 109,  47,  47,  47,  47,  47,  47,  47,  47,   7,  47,  47,\n",
              "        47, 109,  47,   7,  47,  47,  47,  47, 109,  47,   7,  47,  47,\n",
              "        47,  47,  47,  42,  47,  47,  47,  47,  47,  47,  47,  47,  47,\n",
              "        47,  47,   7,  47,  47,  47,   7,   7,  47,   7,  47,  47,  47,\n",
              "         7,  47,  47,  47,  47,   7,  47,   7,  47,  47,  47,   7,   7,\n",
              "         7,  47,   7,  47,  47,  47,  47,  42,  47,   7])"
            ]
          },
          "metadata": {},
          "execution_count": 223
        }
      ]
    },
    {
      "cell_type": "code",
      "source": [
        "from sklearn.metrics import classification_report\n",
        "print(classification_report(y_test,y_pred))"
      ],
      "metadata": {
        "id": "Hj9OH8xKhvwb"
      },
      "id": "Hj9OH8xKhvwb",
      "execution_count": null,
      "outputs": []
    },
    {
      "cell_type": "code",
      "source": [
        "y_test.value_counts()"
      ],
      "metadata": {
        "colab": {
          "base_uri": "https://localhost:8080/"
        },
        "id": "Duu71Su4hwqF",
        "outputId": "f079f3f1-37d3-435b-90de-08fbae61763c"
      },
      "id": "Duu71Su4hwqF",
      "execution_count": 225,
      "outputs": [
        {
          "output_type": "execute_result",
          "data": {
            "text/plain": [
              "104    3\n",
              "44     3\n",
              "56     3\n",
              "37     2\n",
              "20     2\n",
              "      ..\n",
              "49     1\n",
              "57     1\n",
              "0      1\n",
              "117    1\n",
              "27     1\n",
              "Name: label, Length: 79, dtype: int64"
            ]
          },
          "metadata": {},
          "execution_count": 225
        }
      ]
    },
    {
      "cell_type": "code",
      "source": [
        "confusion_matrix(y_test,y_pred)"
      ],
      "metadata": {
        "colab": {
          "base_uri": "https://localhost:8080/"
        },
        "id": "xCBjh5fZhxr2",
        "outputId": "2d5264a9-dbb6-4b75-9bcb-5039e42a4fc4"
      },
      "id": "xCBjh5fZhxr2",
      "execution_count": 226,
      "outputs": [
        {
          "output_type": "execute_result",
          "data": {
            "text/plain": [
              "array([[0, 0, 0, ..., 0, 0, 0],\n",
              "       [0, 0, 0, ..., 0, 0, 0],\n",
              "       [0, 0, 0, ..., 0, 0, 0],\n",
              "       ...,\n",
              "       [0, 0, 0, ..., 0, 0, 0],\n",
              "       [0, 0, 0, ..., 0, 0, 0],\n",
              "       [0, 0, 0, ..., 0, 0, 0]])"
            ]
          },
          "metadata": {},
          "execution_count": 226
        }
      ]
    },
    {
      "cell_type": "code",
      "source": [
        "sns.heatmap(confusion_matrix(y_test,y_pred))"
      ],
      "metadata": {
        "colab": {
          "base_uri": "https://localhost:8080/",
          "height": 286
        },
        "id": "7e7HCG4Yhyi_",
        "outputId": "5e4b4685-d7c5-40f1-f188-c7764748c99e"
      },
      "id": "7e7HCG4Yhyi_",
      "execution_count": 227,
      "outputs": [
        {
          "output_type": "execute_result",
          "data": {
            "text/plain": [
              "<matplotlib.axes._subplots.AxesSubplot at 0x7f437c28acd0>"
            ]
          },
          "metadata": {},
          "execution_count": 227
        },
        {
          "output_type": "display_data",
          "data": {
            "text/plain": [
              "<Figure size 432x288 with 2 Axes>"
            ],
            "image/png": "[encoded data removed]"
          },
          "metadata": {
            "needs_background": "light"
          }
        }
      ]
    },
    {
      "cell_type": "markdown",
      "source": [
        "# ANN Expression"
      ],
      "metadata": {
        "id": "aBYKDug4wg7t"
      },
      "id": "aBYKDug4wg7t"
    },
    {
      "cell_type": "code",
      "source": [
        "X= df_red.drop(columns=['gender',\t'expression','label'],axis=1)\n",
        "y= df_red['expression']"
      ],
      "metadata": {
        "id": "9ExipsXtwmKP"
      },
      "id": "9ExipsXtwmKP",
      "execution_count": 228,
      "outputs": []
    },
    {
      "cell_type": "code",
      "source": [
        "X_train,X_test,y_train,y_test=train_test_split(X,y,test_size=0.2,random_state=0)"
      ],
      "metadata": {
        "id": "W8QosWkpwmLj"
      },
      "id": "W8QosWkpwmLj",
      "execution_count": 229,
      "outputs": []
    },
    {
      "cell_type": "code",
      "source": [
        "from sklearn.neural_network import MLPClassifier\n",
        "model=MLPClassifier(hidden_layer_sizes=(100))\n",
        "model.fit(X_train,y_train)"
      ],
      "metadata": {
        "colab": {
          "base_uri": "https://localhost:8080/"
        },
        "id": "Wl3piGWAwmMk",
        "outputId": "98bb8851-6429-4c18-bf65-3d837acfcb75"
      },
      "id": "Wl3piGWAwmMk",
      "execution_count": 232,
      "outputs": [
        {
          "output_type": "execute_result",
          "data": {
            "text/plain": [
              "MLPClassifier(hidden_layer_sizes=100)"
            ]
          },
          "metadata": {},
          "execution_count": 232
        }
      ]
    },
    {
      "cell_type": "code",
      "source": [
        "y_pred=model.predict(X_test)\n",
        "y_pred"
      ],
      "metadata": {
        "colab": {
          "base_uri": "https://localhost:8080/"
        },
        "id": "od3VP-XzwmOG",
        "outputId": "f46d45d2-3abb-49b1-f8a3-1f71ebdcde35"
      },
      "id": "od3VP-XzwmOG",
      "execution_count": 233,
      "outputs": [
        {
          "output_type": "execute_result",
          "data": {
            "text/plain": [
              "array(['neutral', 'smiling', 'smiling', 'neutral', 'smiling', 'neutral',\n",
              "       'smiling', 'neutral', 'smiling', 'left_light', 'smiling',\n",
              "       'neutral', 'neutral', 'smiling', 'smiling', 'smiling', 'neutral',\n",
              "       'left_light', 'neutral', 'smiling', 'left_light', 'smiling',\n",
              "       'neutral', 'neutral', 'smiling', 'neutral', 'neutral', 'smiling',\n",
              "       'neutral', 'neutral', 'smiling', 'neutral', 'neutral', 'neutral',\n",
              "       'neutral', 'smiling', 'smiling', 'smiling', 'left_light',\n",
              "       'smiling', 'smiling', 'smiling', 'smiling', 'smiling', 'neutral',\n",
              "       'left_light', 'smiling', 'smiling', 'smiling', 'smiling',\n",
              "       'left_light', 'neutral', 'left_light', 'neutral', 'neutral',\n",
              "       'neutral', 'neutral', 'left_light', 'neutral', 'neutral',\n",
              "       'neutral', 'neutral', 'smiling', 'smiling', 'left_light',\n",
              "       'smiling', 'neutral', 'smiling', 'neutral', 'smiling', 'neutral',\n",
              "       'smiling', 'smiling', 'neutral', 'smiling', 'left_light',\n",
              "       'neutral', 'smiling', 'smiling', 'neutral', 'neutral', 'neutral',\n",
              "       'smiling', 'smiling', 'neutral', 'smiling', 'neutral', 'neutral',\n",
              "       'smiling', 'smiling', 'smiling', 'smiling', 'smiling', 'smiling',\n",
              "       'neutral', 'smiling', 'neutral', 'left_light', 'neutral',\n",
              "       'smiling', 'smiling'], dtype='<U10')"
            ]
          },
          "metadata": {},
          "execution_count": 233
        }
      ]
    },
    {
      "cell_type": "code",
      "source": [
        "y_test.values"
      ],
      "metadata": {
        "colab": {
          "base_uri": "https://localhost:8080/"
        },
        "id": "BOfqA_sgwmPx",
        "outputId": "3e7b129d-61b5-447a-f4fa-d78abca7d096"
      },
      "id": "BOfqA_sgwmPx",
      "execution_count": 234,
      "outputs": [
        {
          "output_type": "execute_result",
          "data": {
            "text/plain": [
              "array(['anger', 'smiling', 'anger', 'neutral', 'left_light', 'left_light',\n",
              "       'anger', 'neutral', 'smiling', 'left_light', 'left_light',\n",
              "       'left_light', 'neutral', 'smiling', 'smiling', 'anger', 'anger',\n",
              "       'neutral', 'neutral', 'smiling', 'anger', 'smiling', 'anger',\n",
              "       'neutral', 'smiling', 'anger', 'smiling', 'left_light', 'neutral',\n",
              "       'anger', 'left_light', 'anger', 'neutral', 'anger', 'left_light',\n",
              "       'anger', 'smiling', 'smiling', 'anger', 'smiling', 'left_light',\n",
              "       'anger', 'anger', 'anger', 'neutral', 'smiling', 'smiling',\n",
              "       'left_light', 'smiling', 'anger', 'anger', 'neutral', 'anger',\n",
              "       'anger', 'anger', 'neutral', 'anger', 'left_light', 'smiling',\n",
              "       'neutral', 'anger', 'neutral', 'anger', 'smiling', 'left_light',\n",
              "       'left_light', 'anger', 'left_light', 'anger', 'left_light',\n",
              "       'neutral', 'smiling', 'left_light', 'neutral', 'smiling',\n",
              "       'neutral', 'smiling', 'neutral', 'left_light', 'neutral', 'anger',\n",
              "       'neutral', 'left_light', 'anger', 'anger', 'smiling', 'neutral',\n",
              "       'left_light', 'smiling', 'anger', 'left_light', 'smiling', 'anger',\n",
              "       'left_light', 'smiling', 'smiling', 'neutral', 'neutral',\n",
              "       'neutral', 'anger', 'left_light'], dtype=object)"
            ]
          },
          "metadata": {},
          "execution_count": 234
        }
      ]
    },
    {
      "cell_type": "code",
      "source": [
        "accuracy_score(y_test,y_pred)"
      ],
      "metadata": {
        "colab": {
          "base_uri": "https://localhost:8080/"
        },
        "id": "3iBp6zj-wmRS",
        "outputId": "57f87045-39f9-4098-d76b-6c7e5ee24766"
      },
      "id": "3iBp6zj-wmRS",
      "execution_count": 235,
      "outputs": [
        {
          "output_type": "execute_result",
          "data": {
            "text/plain": [
              "0.40594059405940597"
            ]
          },
          "metadata": {},
          "execution_count": 235
        }
      ]
    },
    {
      "cell_type": "code",
      "source": [
        "y_test.value_counts()"
      ],
      "metadata": {
        "colab": {
          "base_uri": "https://localhost:8080/"
        },
        "id": "otc7JXZtwmS2",
        "outputId": "74d9d8c9-082b-4df1-df7d-a97fa480275b"
      },
      "id": "otc7JXZtwmS2",
      "execution_count": 236,
      "outputs": [
        {
          "output_type": "execute_result",
          "data": {
            "text/plain": [
              "anger         32\n",
              "smiling       24\n",
              "neutral       23\n",
              "left_light    22\n",
              "Name: expression, dtype: int64"
            ]
          },
          "metadata": {},
          "execution_count": 236
        }
      ]
    },
    {
      "cell_type": "code",
      "source": [
        "from sklearn.metrics import classification_report\n",
        "print(classification_report(y_test,y_pred))"
      ],
      "metadata": {
        "colab": {
          "base_uri": "https://localhost:8080/"
        },
        "id": "rt5uDr8wwmUa",
        "outputId": "e38cfd6d-c89e-4471-9dcd-60581e320a1e"
      },
      "id": "rt5uDr8wwmUa",
      "execution_count": 237,
      "outputs": [
        {
          "output_type": "stream",
          "name": "stdout",
          "text": [
            "              precision    recall  f1-score   support\n",
            "\n",
            "       anger       0.00      0.00      0.00        32\n",
            "  left_light       0.27      0.14      0.18        22\n",
            "     neutral       0.45      0.83      0.58        23\n",
            "     smiling       0.40      0.79      0.53        24\n",
            "\n",
            "    accuracy                           0.41       101\n",
            "   macro avg       0.28      0.44      0.32       101\n",
            "weighted avg       0.26      0.41      0.30       101\n",
            "\n"
          ]
        },
        {
          "output_type": "stream",
          "name": "stderr",
          "text": [
            "/usr/local/lib/python3.7/dist-packages/sklearn/metrics/_classification.py:1318: UndefinedMetricWarning: Precision and F-score are ill-defined and being set to 0.0 in labels with no predicted samples. Use `zero_division` parameter to control this behavior.\n",
            "  _warn_prf(average, modifier, msg_start, len(result))\n",
            "/usr/local/lib/python3.7/dist-packages/sklearn/metrics/_classification.py:1318: UndefinedMetricWarning: Precision and F-score are ill-defined and being set to 0.0 in labels with no predicted samples. Use `zero_division` parameter to control this behavior.\n",
            "  _warn_prf(average, modifier, msg_start, len(result))\n",
            "/usr/local/lib/python3.7/dist-packages/sklearn/metrics/_classification.py:1318: UndefinedMetricWarning: Precision and F-score are ill-defined and being set to 0.0 in labels with no predicted samples. Use `zero_division` parameter to control this behavior.\n",
            "  _warn_prf(average, modifier, msg_start, len(result))\n"
          ]
        }
      ]
    },
    {
      "cell_type": "code",
      "source": [
        "confusion_matrix(y_test,y_pred)"
      ],
      "metadata": {
        "colab": {
          "base_uri": "https://localhost:8080/"
        },
        "id": "gsOhtXtKwmWL",
        "outputId": "3ba4e478-9890-41df-a02f-e116f84927f2"
      },
      "id": "gsOhtXtKwmWL",
      "execution_count": 238,
      "outputs": [
        {
          "output_type": "execute_result",
          "data": {
            "text/plain": [
              "array([[ 0,  4, 15, 13],\n",
              "       [ 0,  3,  4, 15],\n",
              "       [ 0,  3, 19,  1],\n",
              "       [ 0,  1,  4, 19]])"
            ]
          },
          "metadata": {},
          "execution_count": 238
        }
      ]
    },
    {
      "cell_type": "code",
      "source": [
        "sns.heatmap(confusion_matrix(y_test,y_pred))"
      ],
      "metadata": {
        "colab": {
          "base_uri": "https://localhost:8080/",
          "height": 282
        },
        "id": "rbM4i5UxwmXV",
        "outputId": "1ecb618e-22b5-40f9-e562-5e0e6b7224dd"
      },
      "id": "rbM4i5UxwmXV",
      "execution_count": 239,
      "outputs": [
        {
          "output_type": "execute_result",
          "data": {
            "text/plain": [
              "<matplotlib.axes._subplots.AxesSubplot at 0x7f437c10ba90>"
            ]
          },
          "metadata": {},
          "execution_count": 239
        },
        {
          "output_type": "display_data",
          "data": {
            "text/plain": [
              "<Figure size 432x288 with 2 Axes>"
            ],
            "image/png": "[encoded data removed]"
          },
          "metadata": {
            "needs_background": "light"
          }
        }
      ]
    },
    {
      "cell_type": "markdown",
      "source": [
        "# ANN Gender"
      ],
      "metadata": {
        "id": "fve88rWyw8Q_"
      },
      "id": "fve88rWyw8Q_"
    },
    {
      "cell_type": "code",
      "source": [
        "X= df_red.drop(columns=['gender',\t'expression','label'],axis=1)\n",
        "y= df_red['gender']"
      ],
      "metadata": {
        "id": "XcDrXq0swmac"
      },
      "id": "XcDrXq0swmac",
      "execution_count": 240,
      "outputs": []
    },
    {
      "cell_type": "code",
      "source": [
        "X_train,X_test,y_train,y_test=train_test_split(X,y,test_size=0.2,random_state=0)"
      ],
      "metadata": {
        "id": "pKRlE3BJwmb-"
      },
      "id": "pKRlE3BJwmb-",
      "execution_count": 241,
      "outputs": []
    },
    {
      "cell_type": "code",
      "source": [
        "from sklearn.neural_network import MLPClassifier\n",
        "model=MLPClassifier(hidden_layer_sizes=(100))\n",
        "model.fit(X_train,y_train)"
      ],
      "metadata": {
        "colab": {
          "base_uri": "https://localhost:8080/"
        },
        "id": "Lf7-Ms2FxAEX",
        "outputId": "8338de05-deef-45c4-b258-01c554c1ea8b"
      },
      "id": "Lf7-Ms2FxAEX",
      "execution_count": 242,
      "outputs": [
        {
          "output_type": "execute_result",
          "data": {
            "text/plain": [
              "MLPClassifier(hidden_layer_sizes=100)"
            ]
          },
          "metadata": {},
          "execution_count": 242
        }
      ]
    },
    {
      "cell_type": "code",
      "source": [
        "y_pred=model.predict(X_test)\n",
        "y_pred"
      ],
      "metadata": {
        "colab": {
          "base_uri": "https://localhost:8080/"
        },
        "id": "2i357xePxAFr",
        "outputId": "fa0cb476-9c22-45cd-cae3-156b3a9d10e1"
      },
      "id": "2i357xePxAFr",
      "execution_count": 243,
      "outputs": [
        {
          "output_type": "execute_result",
          "data": {
            "text/plain": [
              "array(['male', 'male', 'male', 'male', 'male', 'male', 'female', 'male',\n",
              "       'male', 'male', 'male', 'male', 'male', 'male', 'male', 'male',\n",
              "       'male', 'male', 'male', 'male', 'male', 'male', 'male', 'male',\n",
              "       'male', 'male', 'male', 'male', 'male', 'male', 'male', 'male',\n",
              "       'male', 'male', 'male', 'male', 'male', 'male', 'male', 'male',\n",
              "       'female', 'male', 'male', 'male', 'male', 'male', 'male', 'male',\n",
              "       'male', 'male', 'male', 'male', 'male', 'male', 'male', 'male',\n",
              "       'male', 'male', 'male', 'male', 'male', 'male', 'male', 'male',\n",
              "       'male', 'male', 'male', 'male', 'male', 'male', 'male', 'male',\n",
              "       'male', 'male', 'male', 'male', 'male', 'male', 'male', 'male',\n",
              "       'male', 'male', 'male', 'male', 'male', 'male', 'male', 'male',\n",
              "       'male', 'male', 'male', 'male', 'male', 'male', 'male', 'male',\n",
              "       'male', 'male', 'male', 'male', 'male'], dtype='<U6')"
            ]
          },
          "metadata": {},
          "execution_count": 243
        }
      ]
    },
    {
      "cell_type": "code",
      "source": [
        "y_test.values"
      ],
      "metadata": {
        "colab": {
          "base_uri": "https://localhost:8080/"
        },
        "id": "Sr6eH1ezxAHM",
        "outputId": "1ba36376-d4ce-4f40-b316-b45c011d8ceb"
      },
      "id": "Sr6eH1ezxAHM",
      "execution_count": 244,
      "outputs": [
        {
          "output_type": "execute_result",
          "data": {
            "text/plain": [
              "array(['male', 'male', 'female', 'female', 'female', 'male', 'female',\n",
              "       'female', 'male', 'male', 'female', 'male', 'male', 'male', 'male',\n",
              "       'female', 'female', 'male', 'male', 'male', 'male', 'female',\n",
              "       'female', 'male', 'male', 'female', 'male', 'female', 'male',\n",
              "       'male', 'female', 'male', 'male', 'female', 'male', 'female',\n",
              "       'female', 'female', 'male', 'male', 'female', 'male', 'female',\n",
              "       'male', 'male', 'male', 'female', 'female', 'female', 'male',\n",
              "       'female', 'male', 'male', 'male', 'male', 'male', 'female', 'male',\n",
              "       'female', 'male', 'male', 'male', 'female', 'female', 'female',\n",
              "       'male', 'male', 'female', 'female', 'male', 'male', 'male',\n",
              "       'female', 'female', 'male', 'male', 'female', 'male', 'female',\n",
              "       'male', 'female', 'male', 'male', 'female', 'female', 'female',\n",
              "       'female', 'male', 'female', 'male', 'female', 'female', 'female',\n",
              "       'female', 'male', 'female', 'male', 'female', 'male', 'female',\n",
              "       'male'], dtype=object)"
            ]
          },
          "metadata": {},
          "execution_count": 244
        }
      ]
    },
    {
      "cell_type": "code",
      "source": [
        "accuracy_score(y_test,y_pred)"
      ],
      "metadata": {
        "colab": {
          "base_uri": "https://localhost:8080/"
        },
        "id": "WpC32QoKxAIs",
        "outputId": "08b693ef-040e-4faa-fc34-98ddf4d69061"
      },
      "id": "WpC32QoKxAIs",
      "execution_count": 245,
      "outputs": [
        {
          "output_type": "execute_result",
          "data": {
            "text/plain": [
              "0.5544554455445545"
            ]
          },
          "metadata": {},
          "execution_count": 245
        }
      ]
    },
    {
      "cell_type": "code",
      "source": [
        "y_test.value_counts()"
      ],
      "metadata": {
        "colab": {
          "base_uri": "https://localhost:8080/"
        },
        "id": "ugHDaJgixAKL",
        "outputId": "eb141059-4b11-47f3-8cf3-332fee4f1d0f"
      },
      "id": "ugHDaJgixAKL",
      "execution_count": 246,
      "outputs": [
        {
          "output_type": "execute_result",
          "data": {
            "text/plain": [
              "male      54\n",
              "female    47\n",
              "Name: gender, dtype: int64"
            ]
          },
          "metadata": {},
          "execution_count": 246
        }
      ]
    },
    {
      "cell_type": "code",
      "source": [
        "from sklearn.metrics import classification_report\n",
        "print(classification_report(y_test,y_pred))"
      ],
      "metadata": {
        "colab": {
          "base_uri": "https://localhost:8080/"
        },
        "id": "d2gVTrB4xAL9",
        "outputId": "6e5f68fd-93ef-42d0-a67e-6207e60b3654"
      },
      "id": "d2gVTrB4xAL9",
      "execution_count": 247,
      "outputs": [
        {
          "output_type": "stream",
          "name": "stdout",
          "text": [
            "              precision    recall  f1-score   support\n",
            "\n",
            "      female       1.00      0.04      0.08        47\n",
            "        male       0.55      1.00      0.71        54\n",
            "\n",
            "    accuracy                           0.55       101\n",
            "   macro avg       0.77      0.52      0.39       101\n",
            "weighted avg       0.76      0.55      0.42       101\n",
            "\n"
          ]
        }
      ]
    },
    {
      "cell_type": "code",
      "source": [
        "confusion_matrix(y_test,y_pred)"
      ],
      "metadata": {
        "colab": {
          "base_uri": "https://localhost:8080/"
        },
        "id": "DMJ66mrvxANr",
        "outputId": "e9a28948-601d-426f-f5f6-8c74efc763b7"
      },
      "id": "DMJ66mrvxANr",
      "execution_count": 248,
      "outputs": [
        {
          "output_type": "execute_result",
          "data": {
            "text/plain": [
              "array([[ 2, 45],\n",
              "       [ 0, 54]])"
            ]
          },
          "metadata": {},
          "execution_count": 248
        }
      ]
    },
    {
      "cell_type": "code",
      "source": [
        "sns.heatmap(confusion_matrix(y_test,y_pred))"
      ],
      "metadata": {
        "colab": {
          "base_uri": "https://localhost:8080/",
          "height": 282
        },
        "id": "TVscDo-fxAO9",
        "outputId": "1c1b946c-ac7e-4f19-d99a-9e31d1220566"
      },
      "id": "TVscDo-fxAO9",
      "execution_count": 249,
      "outputs": [
        {
          "output_type": "execute_result",
          "data": {
            "text/plain": [
              "<matplotlib.axes._subplots.AxesSubplot at 0x7f437c0fd810>"
            ]
          },
          "metadata": {},
          "execution_count": 249
        },
        {
          "output_type": "display_data",
          "data": {
            "text/plain": [
              "<Figure size 432x288 with 2 Axes>"
            ],
            "image/png": "[encoded data removed]"
          },
          "metadata": {
            "needs_background": "light"
          }
        }
      ]
    }
  ],
  "metadata": {
    "kernelspec": {
      "display_name": "Python 3 (ipykernel)",
      "language": "python",
      "name": "python3"
    },
    "language_info": {
      "codemirror_mode": {
        "name": "ipython",
        "version": 3
      },
      "file_extension": ".py",
      "mimetype": "text/x-python",
      "name": "python",
      "nbconvert_exporter": "python",
      "pygments_lexer": "ipython3",
      "version": "3.9.13"
    },
    "colab": {
      "name": "Face_Features_Final.ipynb",
      "provenance": [],
      "collapsed_sections": []
    }
  },
  "nbformat": 4,
  "nbformat_minor": 5
}